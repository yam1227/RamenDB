{
 "cells": [
  {
   "cell_type": "code",
   "execution_count": null,
   "metadata": {},
   "outputs": [],
   "source": [
    "import pandas as pd"
   ]
  },
  {
   "cell_type": "code",
   "execution_count": null,
   "metadata": {},
   "outputs": [],
   "source": [
    "df_kind = pd.read_csv('../data/kinds_of_rank.csv')\n",
    "df_kind.head()"
   ]
  },
  {
   "cell_type": "code",
   "execution_count": null,
   "metadata": {},
   "outputs": [],
   "source": [
    "df_kind.info()"
   ]
  },
  {
   "cell_type": "code",
   "execution_count": null,
   "metadata": {},
   "outputs": [],
   "source": [
    "# parkingレコードの要素の種類を確認する\n",
    "display(df_kind['parking'].unique())\n",
    "# parkingレコードの要素の種類数を確認\n",
    "print(\"要素の種類数：\",len(df_kind['parking'].unique()))"
   ]
  },
  {
   "cell_type": "code",
   "execution_count": null,
   "metadata": {},
   "outputs": [],
   "source": [
    "# parkingレコードの欠損値総数を確認\n",
    "print(\"欠損値の合計\\n\",df_kind[['parking', 'holiday']].isna().sum())\n",
    "# 欠損値を'情報なし'として補完\n",
    "df_kind['parking'].fillna('情報なし', inplace=True)\n",
    "df_kind['holiday'].fillna('情報なし', inplace=True)\n",
    "print('---処理後---')\n",
    "print(\"欠損値の合計\\n\",df_kind[['parking', 'holiday']].isna().sum())"
   ]
  },
  {
   "cell_type": "code",
   "execution_count": null,
   "metadata": {},
   "outputs": [],
   "source": [
    "# parkingレコードのユニーク値を個数とともに、保存\n",
    "df_kind[['parking']].value_counts().to_csv('parking_of_rank.csv')"
   ]
  },
  {
   "cell_type": "markdown",
   "metadata": {},
   "source": [
    "* 駐車場有.  \n",
    "  敷地内にありとする場合.  \n",
    "  近隣にコインパーキング等駐車可能な場所が有ると公表している場合\n",
    "\n",
    "* 駐車場無.  \n",
    "  駐車場が無いことを公表済みかつ、近隣にも無いとしている場合\n",
    "\n",
    "上記の条件のもと、変換する。\n"
   ]
  },
  {
   "cell_type": "code",
   "execution_count": null,
   "metadata": {},
   "outputs": [],
   "source": [
    "# 近隣にコインパーキング等駐車可能な場所が有ると公表している場合のparkingレコードを確認\n",
    "df_kind[df_kind['parking'].str.contains(r'駐車場なし\\n')].value_counts('parking').to_csv('parking_unique_n.csv')\n",
    "df_kind[df_kind['parking'].str.contains(r'駐車場あり\\n')].value_counts('parking').to_csv('parking_unique_a.csv')\n",
    "\n",
    "# 近隣にコインパーキング等駐車可能な場所が有ると公表している場合のparkingレコードを「駐車場あり」に変換\n",
    "df_kind['parking'][df_kind['parking'].str.contains(r'駐車場なし\\n')] = '駐車場あり'\n",
    "df_kind['parking'][df_kind['parking'].str.contains(r'駐車場あり\\n')] = '駐車場あり'\n",
    "df_kind['parking'][df_kind['parking'].str.contains(r'不明\\n')] = '駐車場あり'\n"
   ]
  },
  {
   "cell_type": "code",
   "execution_count": null,
   "metadata": {},
   "outputs": [],
   "source": [
    "# parkingレコードの要素の種類を確認する\n",
    "display(df_kind['parking'].unique())\n",
    "# parkingレコードの要素の種類数を確認\n",
    "print(\"要素の種類数：\",len(df_kind['parking'].unique()))"
   ]
  },
  {
   "cell_type": "markdown",
   "metadata": {},
   "source": [
    "------"
   ]
  },
  {
   "cell_type": "code",
   "execution_count": null,
   "metadata": {},
   "outputs": [],
   "source": [
    "# holidayレコードの要素の種類を確認する\n",
    "display(df_kind['holiday'].unique())\n",
    "# holidayレコードの要素の種類数を確認\n",
    "print(\"要素の種類数：\",len(df_kind['holiday'].unique()))"
   ]
  },
  {
   "cell_type": "code",
   "execution_count": null,
   "metadata": {},
   "outputs": [],
   "source": [
    "# 「曜日」という文字列を削除したカラムを簡易的に作成（regexを用いることで正規表現として処理することができる）\n",
    "df_kind['holiday_2'] = df_kind['holiday'].replace('曜日', '', regex=True)\n",
    "\n",
    "# holiday_2カラムに「曜日」が無いことを確認\n",
    "print('holidayレコードにある「曜日」を検索',len(df_kind[df_kind['holiday'].str.contains('曜日')]))\n",
    "print('holiday_2レコードにある「曜日」を検索',len(df_kind[df_kind['holiday_2'].str.contains('曜日')]))\n",
    "\n",
    "week_dict = {\n",
    "  'mon_holiday':'月',\n",
    "  'tue_holiday':'火',\n",
    "  'wed_holiday':'水',\n",
    "  'thu_holiday':'木',\n",
    "  'fri_holiday':'金',\n",
    "  'sat_holiday':'土',\n",
    "  'sun_holiday':'日'\n",
    "}\n",
    "\n",
    "# ⚪︎曜日に休日があると思われるデータに対してフラグを設ける\n",
    "for key, value in week_dict.items():\n",
    "  # valueで設定した文字を含む行に対して1を設定\n",
    "  df_kind[key] = df_kind['holiday_2'].str.contains(value).astype(int)\n",
    "\n",
    "# holiday_2は必要無いため、削除する\n",
    "df_kind = df_kind.drop('holiday_2', axis=1)\n",
    "df_kind"
   ]
  },
  {
   "cell_type": "code",
   "execution_count": null,
   "metadata": {},
   "outputs": [],
   "source": [
    "df_kind.to_csv('../data/cleaning_kind_of_rank.csv', index=False)"
   ]
  },
  {
   "cell_type": "code",
   "execution_count": null,
   "metadata": {},
   "outputs": [],
   "source": []
  }
 ],
 "metadata": {
  "kernelspec": {
   "display_name": "scrape",
   "language": "python",
   "name": "python3"
  },
  "language_info": {
   "codemirror_mode": {
    "name": "ipython",
    "version": 3
   },
   "file_extension": ".py",
   "mimetype": "text/x-python",
   "name": "python",
   "nbconvert_exporter": "python",
   "pygments_lexer": "ipython3",
   "version": "3.11.6"
  }
 },
 "nbformat": 4,
 "nbformat_minor": 2
}
