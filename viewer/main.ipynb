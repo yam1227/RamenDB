{
 "cells": [
  {
   "cell_type": "code",
   "execution_count": 1,
   "metadata": {},
   "outputs": [
    {
     "name": "stderr",
     "output_type": "stream",
     "text": [
      "/var/folders/j_/5wplb5g14fs23wsqr2cl92yc0000gn/T/ipykernel_9621/727296647.py:4: UserWarning: \n",
      "The dash_core_components package is deprecated. Please replace\n",
      "`import dash_core_components as dcc` with `from dash import dcc`\n",
      "  import dash_core_components as dcc\n",
      "/var/folders/j_/5wplb5g14fs23wsqr2cl92yc0000gn/T/ipykernel_9621/727296647.py:5: UserWarning: \n",
      "The dash_html_components package is deprecated. Please replace\n",
      "`import dash_html_components as html` with `from dash import html`\n",
      "  import dash_html_components as html\n"
     ]
    }
   ],
   "source": [
    "import pandas as pd\n",
    "import numpy as np\n",
    "import dash\n",
    "import dash_core_components as dcc\n",
    "import dash_html_components as html\n",
    "import dash_bootstrap_components as dbc\n",
    "import plotly.express as px\n",
    "# コールバックに必要なライブラリのインポート\n",
    "from dash.dependencies import Input, Output, State"
   ]
  },
  {
   "cell_type": "markdown",
   "metadata": {},
   "source": [
    "## データの読み込み\n",
    "* df_pref : 48都道府県のTOP50店をランキング形式でデータフレーム化.  df_kindのジャンルレコードと店名（nameレコード）が一致した場合、順位を新しいカラムとして追加する\n",
    "* df_pref_of_parking : 都道府県ごとに駐車場の有無についてカウントしたデータフレーム\n",
    "* df_kind : rankレコードを追加して、順位をレコードとして扱えるようにする\n"
   ]
  },
  {
   "cell_type": "code",
   "execution_count": 2,
   "metadata": {},
   "outputs": [
    {
     "data": {
      "text/html": [
       "<div>\n",
       "<style scoped>\n",
       "    .dataframe tbody tr th:only-of-type {\n",
       "        vertical-align: middle;\n",
       "    }\n",
       "\n",
       "    .dataframe tbody tr th {\n",
       "        vertical-align: top;\n",
       "    }\n",
       "\n",
       "    .dataframe thead th {\n",
       "        text-align: right;\n",
       "    }\n",
       "</style>\n",
       "<table border=\"1\" class=\"dataframe\">\n",
       "  <thead>\n",
       "    <tr style=\"text-align: right;\">\n",
       "      <th></th>\n",
       "      <th>name</th>\n",
       "      <th>point</th>\n",
       "      <th>pref</th>\n",
       "      <th>address</th>\n",
       "      <th>latitude</th>\n",
       "      <th>longitude</th>\n",
       "      <th>parking</th>\n",
       "      <th>holiday</th>\n",
       "      <th>mon_holiday</th>\n",
       "      <th>tue_holiday</th>\n",
       "      <th>wed_holiday</th>\n",
       "      <th>thu_holiday</th>\n",
       "      <th>fri_holiday</th>\n",
       "      <th>sat_holiday</th>\n",
       "      <th>sun_holiday</th>\n",
       "    </tr>\n",
       "  </thead>\n",
       "  <tbody>\n",
       "    <tr>\n",
       "      <th>0</th>\n",
       "      <td>麺屋 彩未</td>\n",
       "      <td>96.711</td>\n",
       "      <td>北海道</td>\n",
       "      <td>〒062-0010 北海道札幌市豊平区美園十条5丁目3-12</td>\n",
       "      <td>43.035251</td>\n",
       "      <td>141.381909</td>\n",
       "      <td>駐車場あり</td>\n",
       "      <td>月曜、火曜水曜の夜、月2回不定休有</td>\n",
       "      <td>1</td>\n",
       "      <td>1</td>\n",
       "      <td>1</td>\n",
       "      <td>0</td>\n",
       "      <td>0</td>\n",
       "      <td>0</td>\n",
       "      <td>0</td>\n",
       "    </tr>\n",
       "    <tr>\n",
       "      <th>1</th>\n",
       "      <td>ラーメン二郎 札幌店</td>\n",
       "      <td>95.285</td>\n",
       "      <td>北海道</td>\n",
       "      <td>〒060-0806 北海道札幌市北区北六条西8-8-11</td>\n",
       "      <td>43.067395</td>\n",
       "      <td>141.343821</td>\n",
       "      <td>駐車場なし</td>\n",
       "      <td>日曜、祝日不定休</td>\n",
       "      <td>0</td>\n",
       "      <td>0</td>\n",
       "      <td>0</td>\n",
       "      <td>0</td>\n",
       "      <td>0</td>\n",
       "      <td>0</td>\n",
       "      <td>1</td>\n",
       "    </tr>\n",
       "    <tr>\n",
       "      <th>2</th>\n",
       "      <td>Japanese Ramen Noodle Lab Q</td>\n",
       "      <td>94.365</td>\n",
       "      <td>北海道</td>\n",
       "      <td>〒060-0001 北海道札幌市中央区北1条西2丁目1-3 りんどうビル B1F</td>\n",
       "      <td>43.063437</td>\n",
       "      <td>141.354229</td>\n",
       "      <td>駐車場なし</td>\n",
       "      <td>日曜日</td>\n",
       "      <td>0</td>\n",
       "      <td>0</td>\n",
       "      <td>0</td>\n",
       "      <td>0</td>\n",
       "      <td>0</td>\n",
       "      <td>0</td>\n",
       "      <td>1</td>\n",
       "    </tr>\n",
       "  </tbody>\n",
       "</table>\n",
       "</div>"
      ],
      "text/plain": [
       "                          name   point pref  \\\n",
       "0                        麺屋 彩未  96.711  北海道   \n",
       "1                   ラーメン二郎 札幌店  95.285  北海道   \n",
       "2  Japanese Ramen Noodle Lab Q  94.365  北海道   \n",
       "\n",
       "                                    address   latitude   longitude parking  \\\n",
       "0            〒062-0010 北海道札幌市豊平区美園十条5丁目3-12  43.035251  141.381909   駐車場あり   \n",
       "1              〒060-0806 北海道札幌市北区北六条西8-8-11  43.067395  141.343821   駐車場なし   \n",
       "2  〒060-0001 北海道札幌市中央区北1条西2丁目1-3 りんどうビル B1F  43.063437  141.354229   駐車場なし   \n",
       "\n",
       "             holiday  mon_holiday  tue_holiday  wed_holiday  thu_holiday  \\\n",
       "0  月曜、火曜水曜の夜、月2回不定休有            1            1            1            0   \n",
       "1           日曜、祝日不定休            0            0            0            0   \n",
       "2                日曜日            0            0            0            0   \n",
       "\n",
       "   fri_holiday  sat_holiday  sun_holiday  \n",
       "0            0            0            0  \n",
       "1            0            0            1  \n",
       "2            0            0            1  "
      ]
     },
     "metadata": {},
     "output_type": "display_data"
    },
    {
     "data": {
      "text/html": [
       "<div>\n",
       "<style scoped>\n",
       "    .dataframe tbody tr th:only-of-type {\n",
       "        vertical-align: middle;\n",
       "    }\n",
       "\n",
       "    .dataframe tbody tr th {\n",
       "        vertical-align: top;\n",
       "    }\n",
       "\n",
       "    .dataframe thead th {\n",
       "        text-align: right;\n",
       "    }\n",
       "</style>\n",
       "<table border=\"1\" class=\"dataframe\">\n",
       "  <thead>\n",
       "    <tr style=\"text-align: right;\">\n",
       "      <th></th>\n",
       "      <th>pref</th>\n",
       "      <th>parking</th>\n",
       "      <th>count</th>\n",
       "    </tr>\n",
       "  </thead>\n",
       "  <tbody>\n",
       "    <tr>\n",
       "      <th>0</th>\n",
       "      <td>三重県</td>\n",
       "      <td>情報なし</td>\n",
       "      <td>5</td>\n",
       "    </tr>\n",
       "    <tr>\n",
       "      <th>1</th>\n",
       "      <td>三重県</td>\n",
       "      <td>駐車場あり</td>\n",
       "      <td>43</td>\n",
       "    </tr>\n",
       "    <tr>\n",
       "      <th>2</th>\n",
       "      <td>三重県</td>\n",
       "      <td>駐車場なし</td>\n",
       "      <td>2</td>\n",
       "    </tr>\n",
       "    <tr>\n",
       "      <th>3</th>\n",
       "      <td>京都府</td>\n",
       "      <td>情報なし</td>\n",
       "      <td>2</td>\n",
       "    </tr>\n",
       "    <tr>\n",
       "      <th>4</th>\n",
       "      <td>京都府</td>\n",
       "      <td>駐車場あり</td>\n",
       "      <td>33</td>\n",
       "    </tr>\n",
       "  </tbody>\n",
       "</table>\n",
       "</div>"
      ],
      "text/plain": [
       "  pref parking  count\n",
       "0  三重県    情報なし      5\n",
       "1  三重県   駐車場あり     43\n",
       "2  三重県   駐車場なし      2\n",
       "3  京都府    情報なし      2\n",
       "4  京都府   駐車場あり     33"
      ]
     },
     "metadata": {},
     "output_type": "display_data"
    },
    {
     "data": {
      "text/html": [
       "<div>\n",
       "<style scoped>\n",
       "    .dataframe tbody tr th:only-of-type {\n",
       "        vertical-align: middle;\n",
       "    }\n",
       "\n",
       "    .dataframe tbody tr th {\n",
       "        vertical-align: top;\n",
       "    }\n",
       "\n",
       "    .dataframe thead th {\n",
       "        text-align: right;\n",
       "    }\n",
       "</style>\n",
       "<table border=\"1\" class=\"dataframe\">\n",
       "  <thead>\n",
       "    <tr style=\"text-align: right;\">\n",
       "      <th></th>\n",
       "      <th>kind</th>\n",
       "      <th>name</th>\n",
       "      <th>point</th>\n",
       "      <th>address</th>\n",
       "      <th>latitude</th>\n",
       "      <th>longitude</th>\n",
       "      <th>parking</th>\n",
       "      <th>holiday</th>\n",
       "      <th>mon_holiday</th>\n",
       "      <th>tue_holiday</th>\n",
       "      <th>wed_holiday</th>\n",
       "      <th>thu_holiday</th>\n",
       "      <th>fri_holiday</th>\n",
       "      <th>sat_holiday</th>\n",
       "      <th>sun_holiday</th>\n",
       "      <th>pref</th>\n",
       "    </tr>\n",
       "  </thead>\n",
       "  <tbody>\n",
       "    <tr>\n",
       "      <th>0</th>\n",
       "      <td>ラーメン</td>\n",
       "      <td>麺屋吉左右</td>\n",
       "      <td>99.746</td>\n",
       "      <td>〒135-0016 東京都江東区東陽1-11-3</td>\n",
       "      <td>35.668468</td>\n",
       "      <td>139.810308</td>\n",
       "      <td>駐車場あり</td>\n",
       "      <td>水曜日・金曜日・日曜日</td>\n",
       "      <td>0</td>\n",
       "      <td>0</td>\n",
       "      <td>1</td>\n",
       "      <td>0</td>\n",
       "      <td>1</td>\n",
       "      <td>0</td>\n",
       "      <td>1</td>\n",
       "      <td>東京都</td>\n",
       "    </tr>\n",
       "    <tr>\n",
       "      <th>1</th>\n",
       "      <td>ラーメン</td>\n",
       "      <td>らぁ麺 飯田商店 湯河原本店</td>\n",
       "      <td>99.704</td>\n",
       "      <td>〒259-0303 神奈川県足柄下郡湯河原町土肥2丁目12-14</td>\n",
       "      <td>35.144696</td>\n",
       "      <td>139.109738</td>\n",
       "      <td>駐車場あり</td>\n",
       "      <td>火・水曜日\\n※不定期月曜臨時休業あり。</td>\n",
       "      <td>1</td>\n",
       "      <td>1</td>\n",
       "      <td>1</td>\n",
       "      <td>0</td>\n",
       "      <td>0</td>\n",
       "      <td>0</td>\n",
       "      <td>0</td>\n",
       "      <td>神奈川県</td>\n",
       "    </tr>\n",
       "    <tr>\n",
       "      <th>2</th>\n",
       "      <td>ラーメン</td>\n",
       "      <td>ラーメン二郎 ひばりヶ丘駅前店</td>\n",
       "      <td>99.400</td>\n",
       "      <td>〒188-0001 東京都西東京市谷戸町3-27-24 ひばりヶ丘プラザ1F</td>\n",
       "      <td>35.749957</td>\n",
       "      <td>139.543549</td>\n",
       "      <td>駐車場あり</td>\n",
       "      <td>水曜夜の部\\n日曜\\n※祝日は不定休、営業有無は店内表示やTwitterで告知有り</td>\n",
       "      <td>0</td>\n",
       "      <td>0</td>\n",
       "      <td>1</td>\n",
       "      <td>0</td>\n",
       "      <td>0</td>\n",
       "      <td>0</td>\n",
       "      <td>1</td>\n",
       "      <td>東京都</td>\n",
       "    </tr>\n",
       "  </tbody>\n",
       "</table>\n",
       "</div>"
      ],
      "text/plain": [
       "   kind             name   point                                 address  \\\n",
       "0  ラーメン            麺屋吉左右  99.746                〒135-0016 東京都江東区東陽1-11-3   \n",
       "1  ラーメン   らぁ麺 飯田商店 湯河原本店  99.704        〒259-0303 神奈川県足柄下郡湯河原町土肥2丁目12-14   \n",
       "2  ラーメン  ラーメン二郎 ひばりヶ丘駅前店  99.400  〒188-0001 東京都西東京市谷戸町3-27-24 ひばりヶ丘プラザ1F   \n",
       "\n",
       "    latitude   longitude parking                                    holiday  \\\n",
       "0  35.668468  139.810308   駐車場あり                                水曜日・金曜日・日曜日   \n",
       "1  35.144696  139.109738   駐車場あり                       火・水曜日\\n※不定期月曜臨時休業あり。   \n",
       "2  35.749957  139.543549   駐車場あり  水曜夜の部\\n日曜\\n※祝日は不定休、営業有無は店内表示やTwitterで告知有り   \n",
       "\n",
       "   mon_holiday  tue_holiday  wed_holiday  thu_holiday  fri_holiday  \\\n",
       "0            0            0            1            0            1   \n",
       "1            1            1            1            0            0   \n",
       "2            0            0            1            0            0   \n",
       "\n",
       "   sat_holiday  sun_holiday  pref  \n",
       "0            0            1   東京都  \n",
       "1            0            0  神奈川県  \n",
       "2            0            1   東京都  "
      ]
     },
     "metadata": {},
     "output_type": "display_data"
    },
    {
     "data": {
      "text/html": [
       "<div>\n",
       "<style scoped>\n",
       "    .dataframe tbody tr th:only-of-type {\n",
       "        vertical-align: middle;\n",
       "    }\n",
       "\n",
       "    .dataframe tbody tr th {\n",
       "        vertical-align: top;\n",
       "    }\n",
       "\n",
       "    .dataframe thead th {\n",
       "        text-align: right;\n",
       "    }\n",
       "</style>\n",
       "<table border=\"1\" class=\"dataframe\">\n",
       "  <thead>\n",
       "    <tr style=\"text-align: right;\">\n",
       "      <th></th>\n",
       "      <th>kind</th>\n",
       "      <th>pref</th>\n",
       "      <th>count</th>\n",
       "    </tr>\n",
       "  </thead>\n",
       "  <tbody>\n",
       "    <tr>\n",
       "      <th>0</th>\n",
       "      <td>つけ麺</td>\n",
       "      <td>京都府</td>\n",
       "      <td>1</td>\n",
       "    </tr>\n",
       "    <tr>\n",
       "      <th>1</th>\n",
       "      <td>つけ麺</td>\n",
       "      <td>千葉県</td>\n",
       "      <td>8</td>\n",
       "    </tr>\n",
       "    <tr>\n",
       "      <th>2</th>\n",
       "      <td>つけ麺</td>\n",
       "      <td>埼玉県</td>\n",
       "      <td>18</td>\n",
       "    </tr>\n",
       "  </tbody>\n",
       "</table>\n",
       "</div>"
      ],
      "text/plain": [
       "  kind pref  count\n",
       "0  つけ麺  京都府      1\n",
       "1  つけ麺  千葉県      8\n",
       "2  つけ麺  埼玉県     18"
      ]
     },
     "metadata": {},
     "output_type": "display_data"
    }
   ],
   "source": [
    "df_pref = pd.read_csv('../data/cleaning_pref.csv')\n",
    "display(df_pref.head(3))\n",
    "\n",
    "df_pref_of_parking = pd.read_csv('../data/groupby_parking.csv')\n",
    "display(df_pref_of_parking.head())\n",
    "\n",
    "df_kind = pd.read_csv('../data/cleaning_kind_of_rank.csv')\n",
    "display(df_kind.head(3))\n",
    "\n",
    "df_kind_of_pref = pd.read_csv('../data/groupby_kind.csv')\n",
    "display(df_kind_of_pref.head(3))"
   ]
  },
  {
   "cell_type": "markdown",
   "metadata": {},
   "source": [
    "## 種類ごとの分類でランクインした店舗に対してフラグを追加.  \n",
    "旧型の種類ごとのランキングのデータフレームに対して用いる"
   ]
  },
  {
   "cell_type": "code",
   "execution_count": 3,
   "metadata": {},
   "outputs": [],
   "source": [
    "# for i, col in enumerate(df_kind.columns):\n",
    "#   # df_kindのrank以外のレコードを条件にマージする\n",
    "#   if i == 1:\n",
    "#     df_kind_rank = pd.merge(df_pref, df_kind[['rank', col]], left_on='name', right_on=col, how='outer', suffixes=['','_'+col])\n",
    "#     df_kind_rank.drop(col, axis=1, inplace=True)\n",
    "#   elif i > 1:\n",
    "#     df_kind_rank = pd.merge(df_kind_rank, df_kind[['rank', col]], left_on='name', right_on=col, how='outer', suffixes=['','_'+col])\n",
    "#     df_kind_rank.drop(col, axis=1, inplace=True)\n",
    "\n",
    "# df_kind_rank = df_kind_rank.rename(columns={'rank':'rank_ラーメン'})\n",
    "# df_kind_rank[['name', 'point','rank_ラーメン', 'rank_つけ麺', 'rank_汁なし', 'rank_冷やし中華', 'rank_醤油', 'rank_味噌', 'rank_塩', 'rank_豚骨',\n",
    "#               'rank_豚骨醤油', 'rank_豚骨魚介', 'rank_鶏白湯', 'rank_煮干し', 'rank_担々麺','rank_カレー', 'rank_塩豚骨']].query('`rank_ラーメン` <= 10').sort_values(by = 'rank_ラーメン')\n",
    "\n",
    "# df_kind_rank.loc[~df_kind_rank['rank_味噌'].isnull()].sort_values('rank_味噌')"
   ]
  },
  {
   "cell_type": "markdown",
   "metadata": {},
   "source": [
    "## スタイルシートの作成.  "
   ]
  },
  {
   "cell_type": "code",
   "execution_count": 4,
   "metadata": {},
   "outputs": [],
   "source": [
    "# bootstrapスタイルシートの読み込み\n",
    "app = dash.Dash(external_stylesheets=[dbc.themes.BOOTSTRAP])"
   ]
  },
  {
   "cell_type": "markdown",
   "metadata": {},
   "source": [
    "## checkbox要素の準備"
   ]
  },
  {
   "cell_type": "code",
   "execution_count": 5,
   "metadata": {},
   "outputs": [],
   "source": [
    "# optionに設定される要素の準備\n",
    "vars_parking = [park for park in np.unique(df_pref['parking'].values)]\n",
    "week_dict = {\n",
    "  '月':'mon_holiday',\n",
    "  '火':'tue_holiday',\n",
    "  '水':'wed_holiday',\n",
    "  '木':'thu_holiday',\n",
    "  '金':'fri_holiday',\n",
    "  '土':'sat_holiday',\n",
    "  '日':'sun_holiday'\n",
    "}\n",
    "vars_pref = ['']\n",
    "vars_pref = np.append(vars_pref,[pref for pref in np.unique(df_pref_of_parking['pref'].values)])\n",
    "\n",
    "vars_kind = [kind for kind in np.unique(df_kind['kind'].values)]\n"
   ]
  },
  {
   "cell_type": "markdown",
   "metadata": {},
   "source": [
    "## サイドバーのコーディング"
   ]
  },
  {
   "cell_type": "code",
   "execution_count": 6,
   "metadata": {},
   "outputs": [],
   "source": [
    "# サイドバーのレイアウト定義\n",
    "sidebar = html.Div(\n",
    "  [\n",
    "    # タイトルの表示\n",
    "    dbc.Row(\n",
    "      [\n",
    "        html.H5('RamenDB Plotly', style={'margin-top': '12px', 'margin-left': '24px'})\n",
    "      ],\n",
    "      style={\"height\": \"5vh\"},\n",
    "      className='bg-primary text-white font-italic'\n",
    "    ),\n",
    "    # 1枚目のマップに対応したスライダー部分\n",
    "    dbc.Row(\n",
    "      [\n",
    "        # インプット用のコンポーネント\n",
    "        html.Div(\n",
    "          [\n",
    "            # 駐車場の有無,空いている店舗を選択できる\n",
    "            html.H3('駐車場の有無', style={'margin-top': '8px', 'margin-bottom': '4px'}, className='font-weight-bold'),\n",
    "            dcc.Checklist(\n",
    "              id='check_parking',\n",
    "              # 表示する要素辞書形式で指定\n",
    "              options=[{'label': x, 'value': x} for x in vars_parking], \n",
    "              # 初期で指定する要素の指定\n",
    "              value=['駐車場あり', '駐車場なし', '情報なし'],\n",
    "              # 要素の縦表示か横表示かの指定\n",
    "              inline=False,\n",
    "              style={'width': '320px'}\n",
    "            ),\n",
    "            html.H3('定休日の選択', style={'margin-top': '16px', 'margin-bottom': '4px'}, className='font-weight-bold'),\n",
    "            dcc.Checklist(\n",
    "              id='check_holiday',\n",
    "              options=[{'label': key, 'value': value} for key, value in week_dict.items()], \n",
    "              value=[], \n",
    "              inline=True,\n",
    "              style={'width': '120px'}\n",
    "            ),\n",
    "            # 都道府県のドロップダウンを表示\n",
    "            html.P('調べたい都道府県を選んでください', style={'margin-top': '8px', 'margin-bottom': '4px'}, className='font-weight-bold'),\n",
    "            dcc.Dropdown(\n",
    "              id='select_pref',\n",
    "              # 表示する要素辞書形式で指定\n",
    "              options=[{'label': value, 'value': value} for value in vars_pref], \n",
    "              # 初期で指定する要素の指定\n",
    "              value='',\n",
    "              style={'width': '120px'}\n",
    "            ),\n",
    "            html.Button(id='apply_button',\n",
    "                        n_clicks=0,\n",
    "                        children='apply',\n",
    "                        style={'margin-top': '16px'},\n",
    "                        className='bg-dark text-white'\n",
    "            ),\n",
    "            html.Hr(),\n",
    "            # 種類ごとにTOP50の名店のみ表示されるボタンを表示\n",
    "            html.P('調べたいジャンルを選んでください', style={'margin-top': '8px', 'margin-bottom': '4px'}, className='font-weight-bold'),\n",
    "            dcc.Dropdown(\n",
    "              id='selected_kind',\n",
    "              # 表示する要素辞書形式で指定\n",
    "              options=[{'label': value, 'value': value} for value in vars_kind], \n",
    "              # 初期で指定する要素の指定\n",
    "              value='ラーメン',\n",
    "              style={'width': '120px'}\n",
    "            ),\n",
    "            html.Button(id='apply_button_rank',\n",
    "                        n_clicks=0,\n",
    "                        children='apply_rank',\n",
    "                        style={'margin-top': '16px'},\n",
    "                        className='bg-dark text-white'\n",
    "            ),\n",
    "            html.Hr()\n",
    "          ]\n",
    "        )\n",
    "      ],\n",
    "      style={'height': '50vh', 'margin': '8px'}\n",
    "    )\n",
    "  ]\n",
    ")"
   ]
  },
  {
   "cell_type": "markdown",
   "metadata": {},
   "source": [
    "## コンテンツ箇所のマップの描画と店舗数の定義(初期に使用される)"
   ]
  },
  {
   "cell_type": "markdown",
   "metadata": {},
   "source": [
    "一列目画像"
   ]
  },
  {
   "cell_type": "code",
   "execution_count": 7,
   "metadata": {},
   "outputs": [
    {
     "data": {
      "application/vnd.plotly.v1+json": {
       "config": {
        "plotlyServerURL": "https://plot.ly"
       },
       "data": [
        {
         "domain": {
          "x": [
           0,
           1
          ],
          "y": [
           0,
           1
          ]
         },
         "hovertemplate": "parking=%{label}<br>count=%{value}<extra></extra>",
         "labels": [
          "情報なし",
          "駐車場あり",
          "駐車場なし"
         ],
         "legendgroup": "",
         "name": "",
         "showlegend": true,
         "type": "pie",
         "values": [
          150,
          1794,
          406
         ]
        }
       ],
       "layout": {
        "legend": {
         "tracegroupgap": 0
        },
        "margin": {
         "b": 0,
         "l": 0,
         "r": 0,
         "t": 0
        },
        "template": {
         "data": {
          "bar": [
           {
            "error_x": {
             "color": "#2a3f5f"
            },
            "error_y": {
             "color": "#2a3f5f"
            },
            "marker": {
             "line": {
              "color": "#E5ECF6",
              "width": 0.5
             },
             "pattern": {
              "fillmode": "overlay",
              "size": 10,
              "solidity": 0.2
             }
            },
            "type": "bar"
           }
          ],
          "barpolar": [
           {
            "marker": {
             "line": {
              "color": "#E5ECF6",
              "width": 0.5
             },
             "pattern": {
              "fillmode": "overlay",
              "size": 10,
              "solidity": 0.2
             }
            },
            "type": "barpolar"
           }
          ],
          "carpet": [
           {
            "aaxis": {
             "endlinecolor": "#2a3f5f",
             "gridcolor": "white",
             "linecolor": "white",
             "minorgridcolor": "white",
             "startlinecolor": "#2a3f5f"
            },
            "baxis": {
             "endlinecolor": "#2a3f5f",
             "gridcolor": "white",
             "linecolor": "white",
             "minorgridcolor": "white",
             "startlinecolor": "#2a3f5f"
            },
            "type": "carpet"
           }
          ],
          "choropleth": [
           {
            "colorbar": {
             "outlinewidth": 0,
             "ticks": ""
            },
            "type": "choropleth"
           }
          ],
          "contour": [
           {
            "colorbar": {
             "outlinewidth": 0,
             "ticks": ""
            },
            "colorscale": [
             [
              0,
              "#0d0887"
             ],
             [
              0.1111111111111111,
              "#46039f"
             ],
             [
              0.2222222222222222,
              "#7201a8"
             ],
             [
              0.3333333333333333,
              "#9c179e"
             ],
             [
              0.4444444444444444,
              "#bd3786"
             ],
             [
              0.5555555555555556,
              "#d8576b"
             ],
             [
              0.6666666666666666,
              "#ed7953"
             ],
             [
              0.7777777777777778,
              "#fb9f3a"
             ],
             [
              0.8888888888888888,
              "#fdca26"
             ],
             [
              1,
              "#f0f921"
             ]
            ],
            "type": "contour"
           }
          ],
          "contourcarpet": [
           {
            "colorbar": {
             "outlinewidth": 0,
             "ticks": ""
            },
            "type": "contourcarpet"
           }
          ],
          "heatmap": [
           {
            "colorbar": {
             "outlinewidth": 0,
             "ticks": ""
            },
            "colorscale": [
             [
              0,
              "#0d0887"
             ],
             [
              0.1111111111111111,
              "#46039f"
             ],
             [
              0.2222222222222222,
              "#7201a8"
             ],
             [
              0.3333333333333333,
              "#9c179e"
             ],
             [
              0.4444444444444444,
              "#bd3786"
             ],
             [
              0.5555555555555556,
              "#d8576b"
             ],
             [
              0.6666666666666666,
              "#ed7953"
             ],
             [
              0.7777777777777778,
              "#fb9f3a"
             ],
             [
              0.8888888888888888,
              "#fdca26"
             ],
             [
              1,
              "#f0f921"
             ]
            ],
            "type": "heatmap"
           }
          ],
          "heatmapgl": [
           {
            "colorbar": {
             "outlinewidth": 0,
             "ticks": ""
            },
            "colorscale": [
             [
              0,
              "#0d0887"
             ],
             [
              0.1111111111111111,
              "#46039f"
             ],
             [
              0.2222222222222222,
              "#7201a8"
             ],
             [
              0.3333333333333333,
              "#9c179e"
             ],
             [
              0.4444444444444444,
              "#bd3786"
             ],
             [
              0.5555555555555556,
              "#d8576b"
             ],
             [
              0.6666666666666666,
              "#ed7953"
             ],
             [
              0.7777777777777778,
              "#fb9f3a"
             ],
             [
              0.8888888888888888,
              "#fdca26"
             ],
             [
              1,
              "#f0f921"
             ]
            ],
            "type": "heatmapgl"
           }
          ],
          "histogram": [
           {
            "marker": {
             "pattern": {
              "fillmode": "overlay",
              "size": 10,
              "solidity": 0.2
             }
            },
            "type": "histogram"
           }
          ],
          "histogram2d": [
           {
            "colorbar": {
             "outlinewidth": 0,
             "ticks": ""
            },
            "colorscale": [
             [
              0,
              "#0d0887"
             ],
             [
              0.1111111111111111,
              "#46039f"
             ],
             [
              0.2222222222222222,
              "#7201a8"
             ],
             [
              0.3333333333333333,
              "#9c179e"
             ],
             [
              0.4444444444444444,
              "#bd3786"
             ],
             [
              0.5555555555555556,
              "#d8576b"
             ],
             [
              0.6666666666666666,
              "#ed7953"
             ],
             [
              0.7777777777777778,
              "#fb9f3a"
             ],
             [
              0.8888888888888888,
              "#fdca26"
             ],
             [
              1,
              "#f0f921"
             ]
            ],
            "type": "histogram2d"
           }
          ],
          "histogram2dcontour": [
           {
            "colorbar": {
             "outlinewidth": 0,
             "ticks": ""
            },
            "colorscale": [
             [
              0,
              "#0d0887"
             ],
             [
              0.1111111111111111,
              "#46039f"
             ],
             [
              0.2222222222222222,
              "#7201a8"
             ],
             [
              0.3333333333333333,
              "#9c179e"
             ],
             [
              0.4444444444444444,
              "#bd3786"
             ],
             [
              0.5555555555555556,
              "#d8576b"
             ],
             [
              0.6666666666666666,
              "#ed7953"
             ],
             [
              0.7777777777777778,
              "#fb9f3a"
             ],
             [
              0.8888888888888888,
              "#fdca26"
             ],
             [
              1,
              "#f0f921"
             ]
            ],
            "type": "histogram2dcontour"
           }
          ],
          "mesh3d": [
           {
            "colorbar": {
             "outlinewidth": 0,
             "ticks": ""
            },
            "type": "mesh3d"
           }
          ],
          "parcoords": [
           {
            "line": {
             "colorbar": {
              "outlinewidth": 0,
              "ticks": ""
             }
            },
            "type": "parcoords"
           }
          ],
          "pie": [
           {
            "automargin": true,
            "type": "pie"
           }
          ],
          "scatter": [
           {
            "fillpattern": {
             "fillmode": "overlay",
             "size": 10,
             "solidity": 0.2
            },
            "type": "scatter"
           }
          ],
          "scatter3d": [
           {
            "line": {
             "colorbar": {
              "outlinewidth": 0,
              "ticks": ""
             }
            },
            "marker": {
             "colorbar": {
              "outlinewidth": 0,
              "ticks": ""
             }
            },
            "type": "scatter3d"
           }
          ],
          "scattercarpet": [
           {
            "marker": {
             "colorbar": {
              "outlinewidth": 0,
              "ticks": ""
             }
            },
            "type": "scattercarpet"
           }
          ],
          "scattergeo": [
           {
            "marker": {
             "colorbar": {
              "outlinewidth": 0,
              "ticks": ""
             }
            },
            "type": "scattergeo"
           }
          ],
          "scattergl": [
           {
            "marker": {
             "colorbar": {
              "outlinewidth": 0,
              "ticks": ""
             }
            },
            "type": "scattergl"
           }
          ],
          "scattermapbox": [
           {
            "marker": {
             "colorbar": {
              "outlinewidth": 0,
              "ticks": ""
             }
            },
            "type": "scattermapbox"
           }
          ],
          "scatterpolar": [
           {
            "marker": {
             "colorbar": {
              "outlinewidth": 0,
              "ticks": ""
             }
            },
            "type": "scatterpolar"
           }
          ],
          "scatterpolargl": [
           {
            "marker": {
             "colorbar": {
              "outlinewidth": 0,
              "ticks": ""
             }
            },
            "type": "scatterpolargl"
           }
          ],
          "scatterternary": [
           {
            "marker": {
             "colorbar": {
              "outlinewidth": 0,
              "ticks": ""
             }
            },
            "type": "scatterternary"
           }
          ],
          "surface": [
           {
            "colorbar": {
             "outlinewidth": 0,
             "ticks": ""
            },
            "colorscale": [
             [
              0,
              "#0d0887"
             ],
             [
              0.1111111111111111,
              "#46039f"
             ],
             [
              0.2222222222222222,
              "#7201a8"
             ],
             [
              0.3333333333333333,
              "#9c179e"
             ],
             [
              0.4444444444444444,
              "#bd3786"
             ],
             [
              0.5555555555555556,
              "#d8576b"
             ],
             [
              0.6666666666666666,
              "#ed7953"
             ],
             [
              0.7777777777777778,
              "#fb9f3a"
             ],
             [
              0.8888888888888888,
              "#fdca26"
             ],
             [
              1,
              "#f0f921"
             ]
            ],
            "type": "surface"
           }
          ],
          "table": [
           {
            "cells": {
             "fill": {
              "color": "#EBF0F8"
             },
             "line": {
              "color": "white"
             }
            },
            "header": {
             "fill": {
              "color": "#C8D4E3"
             },
             "line": {
              "color": "white"
             }
            },
            "type": "table"
           }
          ]
         },
         "layout": {
          "annotationdefaults": {
           "arrowcolor": "#2a3f5f",
           "arrowhead": 0,
           "arrowwidth": 1
          },
          "autotypenumbers": "strict",
          "coloraxis": {
           "colorbar": {
            "outlinewidth": 0,
            "ticks": ""
           }
          },
          "colorscale": {
           "diverging": [
            [
             0,
             "#8e0152"
            ],
            [
             0.1,
             "#c51b7d"
            ],
            [
             0.2,
             "#de77ae"
            ],
            [
             0.3,
             "#f1b6da"
            ],
            [
             0.4,
             "#fde0ef"
            ],
            [
             0.5,
             "#f7f7f7"
            ],
            [
             0.6,
             "#e6f5d0"
            ],
            [
             0.7,
             "#b8e186"
            ],
            [
             0.8,
             "#7fbc41"
            ],
            [
             0.9,
             "#4d9221"
            ],
            [
             1,
             "#276419"
            ]
           ],
           "sequential": [
            [
             0,
             "#0d0887"
            ],
            [
             0.1111111111111111,
             "#46039f"
            ],
            [
             0.2222222222222222,
             "#7201a8"
            ],
            [
             0.3333333333333333,
             "#9c179e"
            ],
            [
             0.4444444444444444,
             "#bd3786"
            ],
            [
             0.5555555555555556,
             "#d8576b"
            ],
            [
             0.6666666666666666,
             "#ed7953"
            ],
            [
             0.7777777777777778,
             "#fb9f3a"
            ],
            [
             0.8888888888888888,
             "#fdca26"
            ],
            [
             1,
             "#f0f921"
            ]
           ],
           "sequentialminus": [
            [
             0,
             "#0d0887"
            ],
            [
             0.1111111111111111,
             "#46039f"
            ],
            [
             0.2222222222222222,
             "#7201a8"
            ],
            [
             0.3333333333333333,
             "#9c179e"
            ],
            [
             0.4444444444444444,
             "#bd3786"
            ],
            [
             0.5555555555555556,
             "#d8576b"
            ],
            [
             0.6666666666666666,
             "#ed7953"
            ],
            [
             0.7777777777777778,
             "#fb9f3a"
            ],
            [
             0.8888888888888888,
             "#fdca26"
            ],
            [
             1,
             "#f0f921"
            ]
           ]
          },
          "colorway": [
           "#636efa",
           "#EF553B",
           "#00cc96",
           "#ab63fa",
           "#FFA15A",
           "#19d3f3",
           "#FF6692",
           "#B6E880",
           "#FF97FF",
           "#FECB52"
          ],
          "font": {
           "color": "#2a3f5f"
          },
          "geo": {
           "bgcolor": "white",
           "lakecolor": "white",
           "landcolor": "#E5ECF6",
           "showlakes": true,
           "showland": true,
           "subunitcolor": "white"
          },
          "hoverlabel": {
           "align": "left"
          },
          "hovermode": "closest",
          "mapbox": {
           "style": "light"
          },
          "paper_bgcolor": "white",
          "plot_bgcolor": "#E5ECF6",
          "polar": {
           "angularaxis": {
            "gridcolor": "white",
            "linecolor": "white",
            "ticks": ""
           },
           "bgcolor": "#E5ECF6",
           "radialaxis": {
            "gridcolor": "white",
            "linecolor": "white",
            "ticks": ""
           }
          },
          "scene": {
           "xaxis": {
            "backgroundcolor": "#E5ECF6",
            "gridcolor": "white",
            "gridwidth": 2,
            "linecolor": "white",
            "showbackground": true,
            "ticks": "",
            "zerolinecolor": "white"
           },
           "yaxis": {
            "backgroundcolor": "#E5ECF6",
            "gridcolor": "white",
            "gridwidth": 2,
            "linecolor": "white",
            "showbackground": true,
            "ticks": "",
            "zerolinecolor": "white"
           },
           "zaxis": {
            "backgroundcolor": "#E5ECF6",
            "gridcolor": "white",
            "gridwidth": 2,
            "linecolor": "white",
            "showbackground": true,
            "ticks": "",
            "zerolinecolor": "white"
           }
          },
          "shapedefaults": {
           "line": {
            "color": "#2a3f5f"
           }
          },
          "ternary": {
           "aaxis": {
            "gridcolor": "white",
            "linecolor": "white",
            "ticks": ""
           },
           "baxis": {
            "gridcolor": "white",
            "linecolor": "white",
            "ticks": ""
           },
           "bgcolor": "#E5ECF6",
           "caxis": {
            "gridcolor": "white",
            "linecolor": "white",
            "ticks": ""
           }
          },
          "title": {
           "x": 0.05
          },
          "xaxis": {
           "automargin": true,
           "gridcolor": "white",
           "linecolor": "white",
           "ticks": "",
           "title": {
            "standoff": 15
           },
           "zerolinecolor": "white",
           "zerolinewidth": 2
          },
          "yaxis": {
           "automargin": true,
           "gridcolor": "white",
           "linecolor": "white",
           "ticks": "",
           "title": {
            "standoff": 15
           },
           "zerolinecolor": "white",
           "zerolinewidth": 2
          }
         }
        }
       }
      }
     },
     "metadata": {},
     "output_type": "display_data"
    }
   ],
   "source": [
    "# hover時に表示するレコードを指定\n",
    "cols = {\n",
    "  'rank': True,\n",
    "  'name': False,\n",
    "  'point': True,\n",
    "  'pref': True,\n",
    "  'address': False,\n",
    "  'latitude': False,\n",
    "  'longitude': False,\n",
    "  'parking': True,\n",
    "  'holiday': True,\n",
    "  'mon_holiday': False,\n",
    "  'tue_holiday': False,\n",
    "  'wed_holiday': False,\n",
    "  'thu_holiday': False,\n",
    "  'fri_holiday': False,\n",
    "  'sat_holiday': False,\n",
    "  'sun_holiday': False\n",
    "}\n",
    "\n",
    "# 点数順に並び替えてランキングカラムを追加する\n",
    "df_pref_rank = df_pref.sort_values('point').reset_index(drop=True).reset_index().rename(columns={'index':'rank'})\n",
    "# 新しく作成したランクカラムを順位になるよう1を足して補正する\n",
    "df_pref_rank['rank'] = df_pref_rank['rank'].apply(lambda x : int(x)+1)\n",
    "\n",
    "# scatter_mapboxグラフの作成\n",
    "fig = px.scatter_mapbox(\n",
    "  # データフレームと、緯度、軽度の指定\n",
    "  df_pref_rank, \n",
    "  lat=\"latitude\", \n",
    "  lon=\"longitude\", \n",
    "  # ホバー時の表示設定\n",
    "  hover_name=\"name\",\n",
    "  hover_data=cols,\n",
    "  color_discrete_sequence=[\"#636EFA\"], \n",
    "  opacity=0.8,\n",
    "  #詳細設定\n",
    "  zoom=3, \n",
    "  height=450,\n",
    "  width=450\n",
    ")\n",
    "# mapの種類を指定\n",
    "fig.update_layout(mapbox_style=\"carto-positron\")\n",
    "# 余白の調整\n",
    "fig.update_layout(margin={\"r\": 0, \"t\": 0, \"l\": 0, \"b\": 0})\n",
    "\n",
    "store_num = df_pref.shape[0]\n",
    "\n",
    "# 選択した都道府県の駐車場情報の比率を円グラフで可視化\n",
    "df_pref_of_parking_new = df_pref_of_parking.groupby('parking').sum().reset_index()\n",
    "df_pref_of_parking_new['pref'] = '全国'\n",
    "\n",
    "#対象都道府県の宣言文\n",
    "pref_park =  '全国の駐車場の有無割合'\n",
    "\n",
    "fig_pie = px.pie(\n",
    "  df_pref_of_parking_new,\n",
    "  values='count', \n",
    "  names='parking'\n",
    ")\n",
    "\n",
    "# 余白の調整\n",
    "fig_pie.update_layout(margin={\"r\": 0, \"t\": 0, \"l\": 0, \"b\": 0})\n",
    "\n"
   ]
  },
  {
   "cell_type": "markdown",
   "metadata": {},
   "source": [
    "2枚目の画像"
   ]
  },
  {
   "cell_type": "code",
   "execution_count": 8,
   "metadata": {},
   "outputs": [],
   "source": [
    "# hover時に表示するレコードを指定\n",
    "cols_rank = {\n",
    "  'rank': True,\n",
    "  'kind': False,\n",
    "  'name': False,\n",
    "  'point': True,\n",
    "  'address': False,\n",
    "  'latitude': False,\n",
    "  'longitude': False,\n",
    "  'parking': True,\n",
    "  'holiday': True,\n",
    "  'mon_holiday': False,\n",
    "  'tue_holiday': False,\n",
    "  'wed_holiday': False,\n",
    "  'thu_holiday': False,\n",
    "  'fri_holiday': False,\n",
    "  'sat_holiday': False,\n",
    "  'sun_holiday': False\n",
    "}\n",
    "\n",
    "# ラーメン要素でデータフレームの絞り込みを行う\n",
    "df_kind_of_rank = df_kind.loc[df_kind['kind'] == 'ラーメン'].reset_index(drop=True).reset_index().rename(columns={'index':'rank'})\n",
    "# 新しく作成したランクカラムを順位になるよう1を足して補正する\n",
    "df_kind_of_rank['rank'] = df_kind_of_rank['rank'].apply(lambda x : int(x)+1)\n",
    "\n",
    "# scatter_mapboxグラフの作成\n",
    "fig_rank = px.scatter_mapbox(\n",
    "  # データフレームと、緯度、軽度の指定\n",
    "  df_kind_of_rank.loc[df_kind['kind'] == 'ラーメン'], \n",
    "  lat=\"latitude\", \n",
    "  lon=\"longitude\", \n",
    "  # ホバー時の表示設定\n",
    "  hover_name=\"name\",\n",
    "  # name要素以外に表示したいデータの追加\n",
    "  hover_data=cols_rank,\n",
    "  color_discrete_sequence=[\"#6363FA\"], \n",
    "  opacity=0.8,\n",
    "  #詳細設定\n",
    "  zoom=3, \n",
    "  height=450,\n",
    "  width=450\n",
    ")\n",
    "# mapの種類を指定\n",
    "fig_rank.update_layout(mapbox_style=\"carto-positron\")\n",
    "# 余白の調整\n",
    "fig_rank.update_layout(margin={\"r\": 0, \"t\": 0, \"l\": 0, \"b\": 0})\n",
    "\n",
    "#対象都道府県の宣言文\n",
    "kind_prefs =  '都道府県の割合'\n",
    "\n",
    "fig_pie_pref = px.pie(\n",
    "  df_kind_of_pref.loc[df_kind_of_pref['kind'] == 'ラーメン'], \n",
    "  values='count', \n",
    "  names='pref'\n",
    ")"
   ]
  },
  {
   "cell_type": "markdown",
   "metadata": {},
   "source": [
    "## コールバックの設定"
   ]
  },
  {
   "cell_type": "markdown",
   "metadata": {},
   "source": [
    "一列目のマップのコールバック関数"
   ]
  },
  {
   "cell_type": "code",
   "execution_count": 9,
   "metadata": {},
   "outputs": [],
   "source": [
    "@app.callback(\n",
    "  Output(component_id='ramen_map', component_property='figure'),\n",
    "  Output(component_id='store_number', component_property='children'),\n",
    "  Output(component_id='pref_parking', component_property='children'),\n",
    "  Output(component_id='parking_pie', component_property='figure'),\n",
    "  Input(component_id='apply_button', component_property='n_clicks'),\n",
    "  State(component_id='check_parking', component_property='value'),\n",
    "  State(component_id='check_holiday', component_property='value'),\n",
    "  State(component_id='select_pref', component_property='value')\n",
    ")\n",
    "def update_map(n_clicks, selected_parking, selected_holidays, selected_pref):\n",
    "  # 新しいデータフレームの枠を作成する\n",
    "  df_pref_new = pd.DataFrame(columns=df_pref.columns)\n",
    "  #selected_parking, selected_holidaysはリスト形式で返却される\n",
    "  #駐車場に関して指定した要素で、データフレームの絞り込みを行う\n",
    "  # パーキング要素が指定されていれば発動\n",
    "  if len(selected_parking):\n",
    "    for value in selected_parking:\n",
    "      df_pref_new = pd.concat([df_pref_new, df_pref[df_pref['parking'] == value]])\n",
    "  \n",
    "  if len(selected_holidays):\n",
    "    for col in selected_holidays:\n",
    "      # 定休日でない店舗を表示する\n",
    "      # 渡されたカラムが0であるインデックスのみ表示\n",
    "      df_pref_new = df_pref_new[df_pref_new[col] == 0]\n",
    "\n",
    "  if len(selected_pref):\n",
    "    df_pref_new = df_pref_new.query(f\"pref == '{selected_pref}'\")\n",
    "    # 駐車場比率に関するデータフレームも整形\n",
    "    df_pref_of_parking_new = df_pref_of_parking.query(f\"pref == '{selected_pref}'\")\n",
    "  else :\n",
    "    selected_pref = '全国'\n",
    "    # 全都道府県の駐車場比率を求められるようフレームを再集計する\n",
    "    df_pref_of_parking_new = df_pref_of_parking.groupby('parking').sum().reset_index()\n",
    "    df_pref_of_parking_new['pref'] = '全国'\n",
    "\n",
    "  # 点数順に並び替えてランキングカラムを追加する\n",
    "  # 一度目のreset_index(drop=True)では新規のインデックスが追加されない（インデックスがリセットもされない）\n",
    "  df_pref_new = df_pref_new.sort_values('point').reset_index(drop=True).reset_index().rename(columns={'index':'rank'})\n",
    "  # 新しく作成したランクカラムを順位になるよう1を足して補正する\n",
    "  df_pref_new['rank'] = df_pref_new['rank'].apply(lambda x : int(x)+1)\n",
    "  \n",
    "  # 上記の処理によりデータフレーム完成\n",
    "  # scatter_mapboxグラフの作成\n",
    "  fig = px.scatter_mapbox(\n",
    "    # データフレームと、緯度、軽度の指定\n",
    "    df_pref_new, \n",
    "    lat=\"latitude\", \n",
    "    lon=\"longitude\", \n",
    "    # ホバー時の表示設定\n",
    "    hover_name=\"name\",\n",
    "    hover_data=cols,\n",
    "    color_discrete_sequence=[\"#636EFA\"], \n",
    "    opacity=1,\n",
    "    #詳細設定\n",
    "    zoom=7, \n",
    "    height=450,\n",
    "    width=450\n",
    "  )\n",
    "  # mapの種類を指定\n",
    "  fig.update_layout(mapbox_style=\"carto-positron\")\n",
    "  # 余白の調整\n",
    "  fig.update_layout(margin={\"r\": 0, \"t\": 0, \"l\": 0, \"b\": 0})\n",
    "\n",
    "  #対象店舗数のカウント\n",
    "  store_num = df_pref_new.shape[0]\n",
    "  store_num = '対象店舗数：' + str(store_num)\n",
    "\n",
    "  #対象都道府県の宣言文\n",
    "  pref_park = selected_pref + 'の駐車場の有無割合'\n",
    "\n",
    "  # 選択した都道府県の駐車場情報の比率を円グラフで可視化\n",
    "  fig_pie = px.pie(\n",
    "    df_pref_of_parking_new,\n",
    "    values='count', \n",
    "    names='parking'\n",
    "  )\n",
    "  \n",
    "  return fig, store_num, pref_park, fig_pie"
   ]
  },
  {
   "cell_type": "markdown",
   "metadata": {},
   "source": [
    "2枚目の画像のコールバック関数"
   ]
  },
  {
   "cell_type": "code",
   "execution_count": 10,
   "metadata": {},
   "outputs": [],
   "source": [
    "@app.callback(\n",
    "  Output(component_id='rank_map', component_property='figure'),\n",
    "  Output(component_id='rank_of_pref', component_property='figure'),\n",
    "  Input(component_id='apply_button_rank', component_property='n_clicks'),\n",
    "  State(component_id='selected_kind', component_property='value')\n",
    ")\n",
    "def update_map(n_clicks, selected_kind):\n",
    "  # データフレームの作成を行う\n",
    "  # 選択された種類の要素でデータフレームの絞り込みを行う\n",
    "  # 一度目のreset_index(drop=True)では新規のインデックスが追加されない（インデックスがリセットもされない）\n",
    "  df_kind_of_rank = df_kind.loc[df_kind['kind'] == selected_kind].reset_index(drop=True).reset_index().rename(columns={'index':'rank'})\n",
    "  # 新しく作成したランクカラムを順位になるよう1を足して補正する\n",
    "  df_kind_of_rank['rank'] = df_kind_of_rank['rank'].apply(lambda x : int(x)+1)\n",
    "  # 選択された種類の要素で絞り込み\n",
    "  df_kind_of_pref_new = df_kind_of_pref.loc[df_kind_of_pref['kind'] == selected_kind]\n",
    "  \n",
    "  # 上記の処理によりデータフレーム完成\n",
    "  # scatter_mapboxグラフの作成\n",
    "  fig_rank = px.scatter_mapbox(\n",
    "    # データフレームと、緯度、軽度の指定\n",
    "    data_frame = df_kind_of_rank, \n",
    "    lat=\"latitude\", \n",
    "    lon=\"longitude\", \n",
    "    # ホバー時の表示設定\n",
    "    hover_name=\"name\",\n",
    "    hover_data=cols_rank,\n",
    "    color_discrete_sequence=[\"#636EFA\"], \n",
    "    opacity=1,\n",
    "    #詳細設定\n",
    "    zoom=7, \n",
    "    height=450,\n",
    "    width=450\n",
    "  )\n",
    "  # mapの種類を指定\n",
    "  fig_rank.update_layout(mapbox_style=\"carto-positron\")\n",
    "  # 余白の調整\n",
    "  fig_rank.update_layout(margin={\"r\": 0, \"t\": 0, \"l\": 0, \"b\": 0})\n",
    "\n",
    "  fig_pie_pref = px.pie(\n",
    "    df_kind_of_pref_new.sort_values('pref'),\n",
    "    values='count', \n",
    "    names='pref'\n",
    "  )\n",
    "\n",
    "  return fig_rank, fig_pie_pref"
   ]
  },
  {
   "cell_type": "markdown",
   "metadata": {},
   "source": [
    "## コンテンツ箇所の画像の貼り付け"
   ]
  },
  {
   "cell_type": "code",
   "execution_count": 11,
   "metadata": {},
   "outputs": [],
   "source": [
    "content_1 = html.Div(\n",
    "  [\n",
    "    dbc.Row(\n",
    "      [\n",
    "        html.H3('条件に従うラーメン店一覧'),\n",
    "        # dcc.graphコンポーネントを利用して、グラフをプロットする\n",
    "        dcc.Graph(id='ramen_map', figure=fig),\n",
    "        html.P(id='store_number', children=[store_num]),\n",
    "        html.P(id='pref_parking', children=[pref_park]),\n",
    "        dcc.Graph(id='parking_pie', figure=fig_pie)\n",
    "      ]\n",
    "    )\n",
    "  ]\n",
    ")\n",
    "content_2 = html.Div(\n",
    "  [\n",
    "    dbc.Row(\n",
    "      [\n",
    "        html.H3(' 種類ごとのTOP100の名店'),\n",
    "        # dcc.graphコンポーネントを利用して、グラフをプロットする\n",
    "        dcc.Graph(id='rank_map', figure=fig_rank),\n",
    "        dcc.Graph(id='rank_of_pref', figure=fig_pie_pref)\n",
    "      ]\n",
    "    )\n",
    "  ]\n",
    ")"
   ]
  },
  {
   "cell_type": "markdown",
   "metadata": {},
   "source": [
    "## アプリの起動"
   ]
  },
  {
   "cell_type": "code",
   "execution_count": 12,
   "metadata": {},
   "outputs": [
    {
     "data": {
      "text/html": [
       "\n",
       "        <iframe\n",
       "            width=\"100%\"\n",
       "            height=\"650\"\n",
       "            src=\"http://127.0.0.1:1234/\"\n",
       "            frameborder=\"0\"\n",
       "            allowfullscreen\n",
       "            \n",
       "        ></iframe>\n",
       "        "
      ],
      "text/plain": [
       "<IPython.lib.display.IFrame at 0x1444a7450>"
      ]
     },
     "metadata": {},
     "output_type": "display_data"
    }
   ],
   "source": [
    "# 画面全体のgridの縦比を、1：3に分割する\n",
    "app.layout = dbc.Container(\n",
    "  [\n",
    "    dbc.Row(\n",
    "      [\n",
    "        dbc.Col(sidebar, width=2, className='bg-light'),\n",
    "        dbc.Col(content_1, width=5),\n",
    "        dbc.Col(content_2, width=5)\n",
    "      ],\n",
    "      style={\"height\": \"200vh\"}\n",
    "    ),\n",
    "  ],\n",
    "  # 不要な余白の除去\n",
    "  fluid=True\n",
    ")\n",
    "\n",
    "if __name__ == \"__main__\":\n",
    "  app.run_server(debug=True, port=1234)\n"
   ]
  },
  {
   "cell_type": "code",
   "execution_count": null,
   "metadata": {},
   "outputs": [],
   "source": []
  },
  {
   "cell_type": "code",
   "execution_count": 13,
   "metadata": {},
   "outputs": [
    {
     "data": {
      "text/html": [
       "<div>\n",
       "<style scoped>\n",
       "    .dataframe tbody tr th:only-of-type {\n",
       "        vertical-align: middle;\n",
       "    }\n",
       "\n",
       "    .dataframe tbody tr th {\n",
       "        vertical-align: top;\n",
       "    }\n",
       "\n",
       "    .dataframe thead th {\n",
       "        text-align: right;\n",
       "    }\n",
       "</style>\n",
       "<table border=\"1\" class=\"dataframe\">\n",
       "  <thead>\n",
       "    <tr style=\"text-align: right;\">\n",
       "      <th></th>\n",
       "      <th>kind</th>\n",
       "      <th>pref</th>\n",
       "    </tr>\n",
       "  </thead>\n",
       "  <tbody>\n",
       "    <tr>\n",
       "      <th>0</th>\n",
       "      <td>つけ麺</td>\n",
       "      <td>京都府</td>\n",
       "    </tr>\n",
       "    <tr>\n",
       "      <th>1</th>\n",
       "      <td>つけ麺</td>\n",
       "      <td>千葉県</td>\n",
       "    </tr>\n",
       "    <tr>\n",
       "      <th>2</th>\n",
       "      <td>つけ麺</td>\n",
       "      <td>埼玉県</td>\n",
       "    </tr>\n",
       "    <tr>\n",
       "      <th>3</th>\n",
       "      <td>つけ麺</td>\n",
       "      <td>大阪府</td>\n",
       "    </tr>\n",
       "    <tr>\n",
       "      <th>4</th>\n",
       "      <td>つけ麺</td>\n",
       "      <td>山梨県</td>\n",
       "    </tr>\n",
       "    <tr>\n",
       "      <th>...</th>\n",
       "      <td>...</td>\n",
       "      <td>...</td>\n",
       "    </tr>\n",
       "    <tr>\n",
       "      <th>189</th>\n",
       "      <td>鶏白湯</td>\n",
       "      <td>神奈川県</td>\n",
       "    </tr>\n",
       "    <tr>\n",
       "      <th>190</th>\n",
       "      <td>鶏白湯</td>\n",
       "      <td>福島県</td>\n",
       "    </tr>\n",
       "    <tr>\n",
       "      <th>191</th>\n",
       "      <td>鶏白湯</td>\n",
       "      <td>群馬県</td>\n",
       "    </tr>\n",
       "    <tr>\n",
       "      <th>192</th>\n",
       "      <td>鶏白湯</td>\n",
       "      <td>茨城県</td>\n",
       "    </tr>\n",
       "    <tr>\n",
       "      <th>193</th>\n",
       "      <td>鶏白湯</td>\n",
       "      <td>長野県</td>\n",
       "    </tr>\n",
       "  </tbody>\n",
       "</table>\n",
       "<p>194 rows × 2 columns</p>\n",
       "</div>"
      ],
      "text/plain": [
       "    kind  pref\n",
       "0    つけ麺   京都府\n",
       "1    つけ麺   千葉県\n",
       "2    つけ麺   埼玉県\n",
       "3    つけ麺   大阪府\n",
       "4    つけ麺   山梨県\n",
       "..   ...   ...\n",
       "189  鶏白湯  神奈川県\n",
       "190  鶏白湯   福島県\n",
       "191  鶏白湯   群馬県\n",
       "192  鶏白湯   茨城県\n",
       "193  鶏白湯   長野県\n",
       "\n",
       "[194 rows x 2 columns]"
      ]
     },
     "execution_count": 13,
     "metadata": {},
     "output_type": "execute_result"
    }
   ],
   "source": [
    "df_kind[['kind', 'pref']].groupby(['kind', 'pref']).count().reset_index()"
   ]
  },
  {
   "cell_type": "code",
   "execution_count": 14,
   "metadata": {},
   "outputs": [
    {
     "data": {
      "text/plain": [
       "array(['三重県', '京都府', '佐賀県', '兵庫県', '北海道', '千葉県', '和歌山県', '埼玉県', '大分県',\n",
       "       '大阪府', '奈良県', '宮城県', '宮崎県', '富山県', '山口県', '山形県', '山梨県', '岐阜県',\n",
       "       '岡山県', '岩手県', '島根県', '広島県', '徳島県', '愛媛県', '愛知県', '新潟県', '東京都',\n",
       "       '栃木県', '沖縄県', '滋賀県', '熊本県', '石川県', '神奈川県', '福井県', '福岡県', '福島県',\n",
       "       '秋田県', '群馬県', '茨城県', '長崎県', '長野県', '青森県', '静岡県', '香川県', '高知県',\n",
       "       '鳥取県', '鹿児島県'], dtype=object)"
      ]
     },
     "execution_count": 14,
     "metadata": {},
     "output_type": "execute_result"
    }
   ],
   "source": [
    "np.unique(df_pref_of_parking['pref'].values)"
   ]
  },
  {
   "cell_type": "code",
   "execution_count": 15,
   "metadata": {},
   "outputs": [
    {
     "data": {
      "text/html": [
       "<div>\n",
       "<style scoped>\n",
       "    .dataframe tbody tr th:only-of-type {\n",
       "        vertical-align: middle;\n",
       "    }\n",
       "\n",
       "    .dataframe tbody tr th {\n",
       "        vertical-align: top;\n",
       "    }\n",
       "\n",
       "    .dataframe thead th {\n",
       "        text-align: right;\n",
       "    }\n",
       "</style>\n",
       "<table border=\"1\" class=\"dataframe\">\n",
       "  <thead>\n",
       "    <tr style=\"text-align: right;\">\n",
       "      <th></th>\n",
       "      <th>parking</th>\n",
       "      <th>pref</th>\n",
       "      <th>count</th>\n",
       "    </tr>\n",
       "  </thead>\n",
       "  <tbody>\n",
       "    <tr>\n",
       "      <th>0</th>\n",
       "      <td>情報なし</td>\n",
       "      <td>全国</td>\n",
       "      <td>150</td>\n",
       "    </tr>\n",
       "    <tr>\n",
       "      <th>1</th>\n",
       "      <td>駐車場あり</td>\n",
       "      <td>全国</td>\n",
       "      <td>1794</td>\n",
       "    </tr>\n",
       "    <tr>\n",
       "      <th>2</th>\n",
       "      <td>駐車場なし</td>\n",
       "      <td>全国</td>\n",
       "      <td>406</td>\n",
       "    </tr>\n",
       "  </tbody>\n",
       "</table>\n",
       "</div>"
      ],
      "text/plain": [
       "  parking pref  count\n",
       "0    情報なし   全国    150\n",
       "1   駐車場あり   全国   1794\n",
       "2   駐車場なし   全国    406"
      ]
     },
     "execution_count": 15,
     "metadata": {},
     "output_type": "execute_result"
    },
    {
     "name": "stderr",
     "output_type": "stream",
     "text": [
      "/var/folders/j_/5wplb5g14fs23wsqr2cl92yc0000gn/T/ipykernel_9621/1601333818.py:19: FutureWarning:\n",
      "\n",
      "The behavior of DataFrame concatenation with empty or all-NA entries is deprecated. In a future version, this will no longer exclude empty or all-NA columns when determining the result dtypes. To retain the old behavior, exclude the relevant entries before the concat operation.\n",
      "\n",
      "/var/folders/j_/5wplb5g14fs23wsqr2cl92yc0000gn/T/ipykernel_9621/1601333818.py:19: FutureWarning:\n",
      "\n",
      "The behavior of DataFrame concatenation with empty or all-NA entries is deprecated. In a future version, this will no longer exclude empty or all-NA columns when determining the result dtypes. To retain the old behavior, exclude the relevant entries before the concat operation.\n",
      "\n"
     ]
    }
   ],
   "source": [
    "df_pref_of_parking_new = df_pref_of_parking.groupby('parking').sum().reset_index()\n",
    "df_pref_of_parking_new['pref'] = '全国'\n",
    "df_pref_of_parking_new"
   ]
  },
  {
   "cell_type": "code",
   "execution_count": null,
   "metadata": {},
   "outputs": [],
   "source": []
  }
 ],
 "metadata": {
  "kernelspec": {
   "display_name": "plotly",
   "language": "python",
   "name": "python3"
  },
  "language_info": {
   "codemirror_mode": {
    "name": "ipython",
    "version": 3
   },
   "file_extension": ".py",
   "mimetype": "text/x-python",
   "name": "python",
   "nbconvert_exporter": "python",
   "pygments_lexer": "ipython3",
   "version": "3.11.6"
  }
 },
 "nbformat": 4,
 "nbformat_minor": 2
}
