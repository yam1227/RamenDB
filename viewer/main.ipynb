{
 "cells": [
  {
   "cell_type": "code",
   "execution_count": null,
   "metadata": {},
   "outputs": [],
   "source": [
    "import pandas as pd\n",
    "import numpy as np\n",
    "import dash\n",
    "import dash_core_components as dcc\n",
    "import dash_html_components as html\n",
    "import dash_bootstrap_components as dbc\n",
    "import plotly.express as px\n",
    "# コールバックに必要なライブラリのインポート\n",
    "from dash.dependencies import Input, Output, State"
   ]
  },
  {
   "cell_type": "markdown",
   "metadata": {},
   "source": [
    "## データの読み込み\n",
    "* df_pref : 48都道府県のTOP50店をランキング形式でデータフレーム化.  df_kindのジャンルレコードと店名（nameレコード）が一致した場合、順位を新しいカラムとして追加する\n",
    "* df_pref_of_parking : 都道府県ごとに駐車場の有無についてカウントしたデータフレーム\n",
    "* df_kind : rankレコードを追加して、順位をレコードとして扱えるようにする\n"
   ]
  },
  {
   "cell_type": "code",
   "execution_count": null,
   "metadata": {},
   "outputs": [],
   "source": [
    "df_pref = pd.read_csv('../data/cleaning_pref.csv')\n",
    "display(df_pref.head(3))\n",
    "\n",
    "df_pref_of_parking = pd.read_csv('../data/groupby_parking.csv')\n",
    "display(df_pref_of_parking.head())\n",
    "\n",
    "df_kind = pd.read_csv('../data/cleaning_kind_of_rank.csv')\n",
    "display(df_kind.head(3))\n",
    "\n",
    "df_kind_of_pref = pd.read_csv('../data/groupby_kind.csv')\n",
    "display(df_kind_of_pref.head(3))"
   ]
  },
  {
   "cell_type": "markdown",
   "metadata": {},
   "source": [
    "## 種類ごとの分類でランクインした店舗に対してフラグを追加.  \n",
    "旧型の種類ごとのランキングのデータフレームに対して用いる"
   ]
  },
  {
   "cell_type": "code",
   "execution_count": null,
   "metadata": {},
   "outputs": [],
   "source": [
    "# for i, col in enumerate(df_kind.columns):\n",
    "#   # df_kindのrank以外のレコードを条件にマージする\n",
    "#   if i == 1:\n",
    "#     df_kind_rank = pd.merge(df_pref, df_kind[['rank', col]], left_on='name', right_on=col, how='outer', suffixes=['','_'+col])\n",
    "#     df_kind_rank.drop(col, axis=1, inplace=True)\n",
    "#   elif i > 1:\n",
    "#     df_kind_rank = pd.merge(df_kind_rank, df_kind[['rank', col]], left_on='name', right_on=col, how='outer', suffixes=['','_'+col])\n",
    "#     df_kind_rank.drop(col, axis=1, inplace=True)\n",
    "\n",
    "# df_kind_rank = df_kind_rank.rename(columns={'rank':'rank_ラーメン'})\n",
    "# df_kind_rank[['name', 'point','rank_ラーメン', 'rank_つけ麺', 'rank_汁なし', 'rank_冷やし中華', 'rank_醤油', 'rank_味噌', 'rank_塩', 'rank_豚骨',\n",
    "#               'rank_豚骨醤油', 'rank_豚骨魚介', 'rank_鶏白湯', 'rank_煮干し', 'rank_担々麺','rank_カレー', 'rank_塩豚骨']].query('`rank_ラーメン` <= 10').sort_values(by = 'rank_ラーメン')\n",
    "\n",
    "# df_kind_rank.loc[~df_kind_rank['rank_味噌'].isnull()].sort_values('rank_味噌')"
   ]
  },
  {
   "cell_type": "markdown",
   "metadata": {},
   "source": [
    "## スタイルシートの作成.  "
   ]
  },
  {
   "cell_type": "code",
   "execution_count": null,
   "metadata": {},
   "outputs": [],
   "source": [
    "# bootstrapスタイルシートの読み込み\n",
    "app = dash.Dash(external_stylesheets=[dbc.themes.BOOTSTRAP])"
   ]
  },
  {
   "cell_type": "markdown",
   "metadata": {},
   "source": [
    "## checkbox要素の準備"
   ]
  },
  {
   "cell_type": "code",
   "execution_count": null,
   "metadata": {},
   "outputs": [],
   "source": [
    "# optionに設定される要素の準備\n",
    "vars_parking = [park for park in np.unique(df_pref['parking'].values)]\n",
    "week_dict = {\n",
    "  '月':'mon_holiday',\n",
    "  '火':'tue_holiday',\n",
    "  '水':'wed_holiday',\n",
    "  '木':'thu_holiday',\n",
    "  '金':'fri_holiday',\n",
    "  '土':'sat_holiday',\n",
    "  '日':'sun_holiday'\n",
    "}\n",
    "vars_pref = ['']\n",
    "vars_pref = np.append(vars_pref,[pref for pref in np.unique(df_pref_of_parking['pref'].values)])\n",
    "\n",
    "vars_kind = [kind for kind in np.unique(df_kind['kind'].values)]\n"
   ]
  },
  {
   "cell_type": "markdown",
   "metadata": {},
   "source": [
    "## サイドバーのコーディング"
   ]
  },
  {
   "cell_type": "code",
   "execution_count": null,
   "metadata": {},
   "outputs": [],
   "source": [
    "# サイドバーのレイアウト定義\n",
    "sidebar = html.Div(\n",
    "  [\n",
    "    # タイトルの表示\n",
    "    dbc.Row(\n",
    "      [\n",
    "        html.H5('RamenDB Plotly', style={'margin-top': '12px', 'margin-left': '24px'})\n",
    "      ],\n",
    "      style={\"height\": \"5vh\"},\n",
    "      className='bg-primary text-white font-italic'\n",
    "    ),\n",
    "    # 1枚目のマップに対応したスライダー部分\n",
    "    dbc.Row(\n",
    "      [\n",
    "        # インプット用のコンポーネント\n",
    "        html.Div(\n",
    "          [\n",
    "            # 駐車場の有無,空いている店舗を選択できる\n",
    "            html.H3('駐車場の有無', style={'margin-top': '8px', 'margin-bottom': '4px'}, className='font-weight-bold'),\n",
    "            dcc.Checklist(\n",
    "              id='check_parking',\n",
    "              # 表示する要素辞書形式で指定\n",
    "              options=[{'label': x, 'value': x} for x in vars_parking], \n",
    "              # 初期で指定する要素の指定\n",
    "              value=['駐車場あり', '駐車場なし', '情報なし'],\n",
    "              # 要素の縦表示か横表示かの指定\n",
    "              inline=False,\n",
    "              style={'width': '320px'}\n",
    "            ),\n",
    "            html.H3('定休日の選択', style={'margin-top': '16px', 'margin-bottom': '4px'}, className='font-weight-bold'),\n",
    "            dcc.Checklist(\n",
    "              id='check_holiday',\n",
    "              options=[{'label': key, 'value': value} for key, value in week_dict.items()], \n",
    "              value=[], \n",
    "              inline=True,\n",
    "              style={'width': '120px'}\n",
    "            ),\n",
    "            # 都道府県のドロップダウンを表示\n",
    "            html.P('調べたい都道府県を選んでください', style={'margin-top': '8px', 'margin-bottom': '4px'}, className='font-weight-bold'),\n",
    "            dcc.Dropdown(\n",
    "              id='select_pref',\n",
    "              # 表示する要素辞書形式で指定\n",
    "              options=[{'label': value, 'value': value} for value in vars_pref], \n",
    "              # 初期で指定する要素の指定\n",
    "              value='',\n",
    "              style={'width': '120px'}\n",
    "            ),\n",
    "            html.Button(id='apply_button',\n",
    "                        n_clicks=0,\n",
    "                        children='apply',\n",
    "                        style={'margin-top': '16px'},\n",
    "                        className='bg-dark text-white'\n",
    "            ),\n",
    "            html.Hr(),\n",
    "            # 種類ごとにTOP50の名店のみ表示されるボタンを表示\n",
    "            html.P('調べたいジャンルを選んでください', style={'margin-top': '8px', 'margin-bottom': '4px'}, className='font-weight-bold'),\n",
    "            dcc.Dropdown(\n",
    "              id='selected_kind',\n",
    "              # 表示する要素辞書形式で指定\n",
    "              options=[{'label': value, 'value': value} for value in vars_kind], \n",
    "              # 初期で指定する要素の指定\n",
    "              value='ラーメン',\n",
    "              style={'width': '120px'}\n",
    "            ),\n",
    "            html.Button(id='apply_button_rank',\n",
    "                        n_clicks=0,\n",
    "                        children='apply_rank',\n",
    "                        style={'margin-top': '16px'},\n",
    "                        className='bg-dark text-white'\n",
    "            ),\n",
    "            html.Hr()\n",
    "          ]\n",
    "        )\n",
    "      ],\n",
    "      style={'height': '50vh', 'margin': '8px'}\n",
    "    )\n",
    "  ]\n",
    ")"
   ]
  },
  {
   "cell_type": "markdown",
   "metadata": {},
   "source": [
    "## コンテンツ箇所のマップの描画と店舗数の定義(初期に使用される)"
   ]
  },
  {
   "cell_type": "markdown",
   "metadata": {},
   "source": [
    "一列目画像"
   ]
  },
  {
   "cell_type": "code",
   "execution_count": null,
   "metadata": {},
   "outputs": [],
   "source": [
    "# hover時に表示するレコードを指定\n",
    "cols = df_pref.columns.drop([\n",
    "                              'address', \n",
    "                              'latitude', \n",
    "                              'longitude', \n",
    "                              'name',\n",
    "                              'mon_holiday',\n",
    "                              'tue_holiday',\n",
    "                              'wed_holiday',\n",
    "                              'thu_holiday',\n",
    "                              'fri_holiday',\n",
    "                              'sat_holiday',\n",
    "                              'sun_holiday',\n",
    "                              'pref'\n",
    "                             ])\n",
    "\n",
    "# scatter_mapboxグラフの作成\n",
    "fig = px.scatter_mapbox(\n",
    "  # データフレームと、緯度、軽度の指定\n",
    "  df_pref, \n",
    "  lat=\"latitude\", \n",
    "  lon=\"longitude\", \n",
    "  # ホバー時の表示設定\n",
    "  hover_name=\"name\",\n",
    "  hover_data=cols,\n",
    "  color_discrete_sequence=[\"#636EFA\"], \n",
    "  opacity=0.8,\n",
    "  #詳細設定\n",
    "  zoom=3, \n",
    "  height=450,\n",
    "  width=450\n",
    ")\n",
    "# mapの種類を指定\n",
    "fig.update_layout(mapbox_style=\"carto-positron\")\n",
    "# 余白の調整\n",
    "fig.update_layout(margin={\"r\": 0, \"t\": 0, \"l\": 0, \"b\": 0})\n",
    "\n",
    "store_num = df_pref.shape[0]\n",
    "\n",
    "# 選択した都道府県の駐車場情報の比率を円グラフで可視化\n",
    "df_pref_of_parking_new = df_pref_of_parking.groupby('parking').sum().reset_index()\n",
    "df_pref_of_parking_new['pref'] = '全国'\n",
    "\n",
    "#対象都道府県の宣言文\n",
    "pref_park =  '全国の駐車場の有無割合'\n",
    "\n",
    "fig_pie = px.pie(\n",
    "  df_pref_of_parking_new,\n",
    "  values='count', \n",
    "  names='parking'\n",
    ")\n",
    "\n",
    "# 余白の調整\n",
    "fig_pie.update_layout(margin={\"r\": 0, \"t\": 0, \"l\": 0, \"b\": 0})\n",
    "\n"
   ]
  },
  {
   "cell_type": "markdown",
   "metadata": {},
   "source": [
    "2枚目の画像"
   ]
  },
  {
   "cell_type": "code",
   "execution_count": null,
   "metadata": {},
   "outputs": [],
   "source": [
    "# hover時に表示するレコードを指定\n",
    "cols_rank = df_kind.columns.drop([\n",
    "                              'kind', \n",
    "                              'latitude', \n",
    "                              'longitude',\n",
    "                              'name', \n",
    "                              'mon_holiday',\n",
    "                              'tue_holiday',\n",
    "                              'wed_holiday',\n",
    "                              'thu_holiday',\n",
    "                              'fri_holiday',\n",
    "                              'sat_holiday',\n",
    "                              'sun_holiday',\n",
    "                            ])\n",
    "\n",
    "# scatter_mapboxグラフの作成\n",
    "fig_rank = px.scatter_mapbox(\n",
    "  # データフレームと、緯度、軽度の指定\n",
    "  df_kind.loc[df_kind['kind'] == 'ラーメン'], \n",
    "  lat=\"latitude\", \n",
    "  lon=\"longitude\", \n",
    "  # ホバー時の表示設定\n",
    "  hover_name=\"name\",\n",
    "  # name要素以外に表示したいデータの追加\n",
    "  hover_data=cols_rank,\n",
    "  color_discrete_sequence=[\"#6363FA\"], \n",
    "  opacity=0.8,\n",
    "  #詳細設定\n",
    "  zoom=3, \n",
    "  height=450,\n",
    "  width=450\n",
    ")\n",
    "# mapの種類を指定\n",
    "fig_rank.update_layout(mapbox_style=\"carto-positron\")\n",
    "# 余白の調整\n",
    "fig_rank.update_layout(margin={\"r\": 0, \"t\": 0, \"l\": 0, \"b\": 0})\n",
    "\n",
    "#対象都道府県の宣言文\n",
    "kind_prefs =  '都道府県の割合'\n",
    "\n",
    "fig_pie_pref = px.pie(\n",
    "  df_kind_of_pref.loc[df_kind_of_pref['kind'] == 'ラーメン'], \n",
    "  values='count', \n",
    "  names='pref'\n",
    ")"
   ]
  },
  {
   "cell_type": "markdown",
   "metadata": {},
   "source": [
    "## コールバックの設定"
   ]
  },
  {
   "cell_type": "markdown",
   "metadata": {},
   "source": [
    "一列目のマップのコールバック関数"
   ]
  },
  {
   "cell_type": "code",
   "execution_count": null,
   "metadata": {},
   "outputs": [],
   "source": [
    "@app.callback(\n",
    "  Output(component_id='ramen_map', component_property='figure'),\n",
    "  Output(component_id='store_number', component_property='children'),\n",
    "  Output(component_id='pref_parking', component_property='children'),\n",
    "  Output(component_id='parking_pie', component_property='figure'),\n",
    "  Input(component_id='apply_button', component_property='n_clicks'),\n",
    "  State(component_id='check_parking', component_property='value'),\n",
    "  State(component_id='check_holiday', component_property='value'),\n",
    "  State(component_id='select_pref', component_property='value')\n",
    ")\n",
    "def update_map(n_clicks, selected_parking, selected_holidays, selected_pref):\n",
    "  # 新しいデータフレームの枠を作成する\n",
    "  df_pref_new = pd.DataFrame(columns=df_pref.columns)\n",
    "  #selected_parking, selected_holidaysはリスト形式で返却される\n",
    "  #駐車場に関して指定した要素で、データフレームの絞り込みを行う\n",
    "  # パーキング要素が指定されていれば発動\n",
    "  if len(selected_parking):\n",
    "    for value in selected_parking:\n",
    "      df_pref_new = pd.concat([df_pref_new, df_pref[df_pref['parking'] == value]])\n",
    "  \n",
    "  if len(selected_holidays):\n",
    "    for col in selected_holidays:\n",
    "      # 定休日でない店舗を表示する\n",
    "      # 渡されたカラムが0であるインデックスのみ表示\n",
    "      df_pref_new = df_pref_new[df_pref_new[col] == 0]\n",
    "\n",
    "  if len(selected_pref):\n",
    "    df_pref_new = df_pref_new.query(f\"pref == '{selected_pref}'\")\n",
    "    # 駐車場比率に関するデータフレームも整形\n",
    "    df_pref_of_parking_new = df_pref_of_parking.query(f\"pref == '{selected_pref}'\")\n",
    "  else :\n",
    "    selected_pref = '全国'\n",
    "    # 全都道府県の駐車場比率を求められるようフレームを再集計する\n",
    "    df_pref_of_parking_new = df_pref_of_parking.groupby('parking').sum().reset_index()\n",
    "    df_pref_of_parking_new['pref'] = '全国'\n",
    "  \n",
    "  # 上記の処理によりデータフレーム完成\n",
    "  # scatter_mapboxグラフの作成\n",
    "  fig = px.scatter_mapbox(\n",
    "    # データフレームと、緯度、軽度の指定\n",
    "    df_pref_new, \n",
    "    lat=\"latitude\", \n",
    "    lon=\"longitude\", \n",
    "    # ホバー時の表示設定\n",
    "    hover_name=\"name\",\n",
    "    hover_data=cols,\n",
    "    color_discrete_sequence=[\"#636EFA\"], \n",
    "    opacity=1,\n",
    "    #詳細設定\n",
    "    zoom=7, \n",
    "    height=450,\n",
    "    width=450\n",
    "  )\n",
    "  # mapの種類を指定\n",
    "  fig.update_layout(mapbox_style=\"carto-positron\")\n",
    "  # 余白の調整\n",
    "  fig.update_layout(margin={\"r\": 0, \"t\": 0, \"l\": 0, \"b\": 0})\n",
    "\n",
    "  #対象店舗数のカウント\n",
    "  store_num = df_pref_new.shape[0]\n",
    "  store_num = '対象店舗数：' + str(store_num)\n",
    "\n",
    "  #対象都道府県の宣言文\n",
    "  pref_park = selected_pref + 'の駐車場の有無割合'\n",
    "\n",
    "  # 選択した都道府県の駐車場情報の比率を円グラフで可視化\n",
    "  fig_pie = px.pie(\n",
    "    df_pref_of_parking_new,\n",
    "    values='count', \n",
    "    names='parking'\n",
    "  )\n",
    "  \n",
    "  return fig, store_num, pref_park, fig_pie"
   ]
  },
  {
   "cell_type": "markdown",
   "metadata": {},
   "source": [
    "2枚目の画像のコールバック関数"
   ]
  },
  {
   "cell_type": "code",
   "execution_count": null,
   "metadata": {},
   "outputs": [],
   "source": [
    "@app.callback(\n",
    "  Output(component_id='rank_map', component_property='figure'),\n",
    "  Output(component_id='rank_of_pref', component_property='figure'),\n",
    "  Input(component_id='apply_button_rank', component_property='n_clicks'),\n",
    "  State(component_id='selected_kind', component_property='value')\n",
    ")\n",
    "def update_map(n_clicks, selected_kind):\n",
    "  # データフレームの作成を行う\n",
    "  # 選択された種類の要素でデータフレームの絞り込みを行う\n",
    "  df_kind_of_rank = df_kind.loc[df_kind['kind'] == selected_kind].reset_index().rename(columns={'index':'rank'})\n",
    "  # 新しく作成したランクカラムを順位になるよう1を足して補正する\n",
    "  df_kind_of_rank['rank'] = df_kind_of_rank['rank'].apply(lambda x : int(x)+1)\n",
    "  # 選択された種類の要素で絞り込み\n",
    "  df_kind_of_pref_new = df_kind_of_pref.loc[df_kind_of_pref['kind'] == selected_kind]\n",
    "  \n",
    "  # 上記の処理によりデータフレーム完成\n",
    "  # scatter_mapboxグラフの作成\n",
    "  fig_rank = px.scatter_mapbox(\n",
    "    # データフレームと、緯度、軽度の指定\n",
    "    data_frame = df_kind_of_rank, \n",
    "    lat=\"latitude\", \n",
    "    lon=\"longitude\", \n",
    "    # ホバー時の表示設定\n",
    "    hover_name=\"name\",\n",
    "    hover_data=cols,\n",
    "    color_discrete_sequence=[\"#636EFA\"], \n",
    "    opacity=1,\n",
    "    #詳細設定\n",
    "    zoom=7, \n",
    "    height=450,\n",
    "    width=450\n",
    "  )\n",
    "  # mapの種類を指定\n",
    "  fig_rank.update_layout(mapbox_style=\"carto-positron\")\n",
    "  # 余白の調整\n",
    "  fig_rank.update_layout(margin={\"r\": 0, \"t\": 0, \"l\": 0, \"b\": 0})\n",
    "\n",
    "  fig_pie_pref = px.pie(\n",
    "    df_kind_of_pref_new,\n",
    "    values='count', \n",
    "    names='pref'\n",
    "  )\n",
    "\n",
    "  return fig_rank, fig_pie_pref"
   ]
  },
  {
   "cell_type": "markdown",
   "metadata": {},
   "source": [
    "## コンテンツ箇所の画像の貼り付け"
   ]
  },
  {
   "cell_type": "code",
   "execution_count": null,
   "metadata": {},
   "outputs": [],
   "source": [
    "content_1 = html.Div(\n",
    "  [\n",
    "    dbc.Row(\n",
    "      [\n",
    "        html.H3('条件に従うラーメン店一覧'),\n",
    "        # dcc.graphコンポーネントを利用して、グラフをプロットする\n",
    "        dcc.Graph(id='ramen_map', figure=fig),\n",
    "        html.P(id='store_number', children=[store_num]),\n",
    "        html.P(id='pref_parking', children=[pref_park]),\n",
    "        dcc.Graph(id='parking_pie', figure=fig_pie)\n",
    "      ]\n",
    "    )\n",
    "  ]\n",
    ")\n",
    "content_2 = html.Div(\n",
    "  [\n",
    "    dbc.Row(\n",
    "      [\n",
    "        html.H3(' 種類ごとのTOP100の名店'),\n",
    "        # dcc.graphコンポーネントを利用して、グラフをプロットする\n",
    "        dcc.Graph(id='rank_map', figure=fig_rank),\n",
    "        dcc.Graph(id='rank_of_pref', figure=fig_pie_pref)\n",
    "      ]\n",
    "    )\n",
    "  ]\n",
    ")"
   ]
  },
  {
   "cell_type": "markdown",
   "metadata": {},
   "source": [
    "## アプリの起動"
   ]
  },
  {
   "cell_type": "code",
   "execution_count": null,
   "metadata": {},
   "outputs": [],
   "source": [
    "# 画面全体のgridの縦比を、1：3に分割する\n",
    "app.layout = dbc.Container(\n",
    "  [\n",
    "    dbc.Row(\n",
    "      [\n",
    "        dbc.Col(sidebar, width=2, className='bg-light'),\n",
    "        dbc.Col(content_1, width=5),\n",
    "        dbc.Col(content_2, width=5)\n",
    "      ],\n",
    "      style={\"height\": \"200vh\"}\n",
    "    ),\n",
    "  ],\n",
    "  # 不要な余白の除去\n",
    "  fluid=True\n",
    ")\n",
    "\n",
    "if __name__ == \"__main__\":\n",
    "  app.run_server(debug=True, port=1234)\n"
   ]
  },
  {
   "cell_type": "code",
   "execution_count": null,
   "metadata": {},
   "outputs": [],
   "source": []
  },
  {
   "cell_type": "code",
   "execution_count": null,
   "metadata": {},
   "outputs": [],
   "source": [
    "df_kind[['kind', 'pref']].groupby(['kind', 'pref']).count().reset_index()"
   ]
  },
  {
   "cell_type": "code",
   "execution_count": null,
   "metadata": {},
   "outputs": [],
   "source": [
    "np.unique(df_pref_of_parking['pref'].values)"
   ]
  },
  {
   "cell_type": "code",
   "execution_count": null,
   "metadata": {},
   "outputs": [],
   "source": [
    "df_pref_of_parking_new = df_pref_of_parking.groupby('parking').sum().reset_index()\n",
    "df_pref_of_parking_new['pref'] = '全国'\n",
    "df_pref_of_parking_new"
   ]
  },
  {
   "cell_type": "code",
   "execution_count": null,
   "metadata": {},
   "outputs": [],
   "source": []
  }
 ],
 "metadata": {
  "kernelspec": {
   "display_name": "plotly",
   "language": "python",
   "name": "python3"
  },
  "language_info": {
   "codemirror_mode": {
    "name": "ipython",
    "version": 3
   },
   "file_extension": ".py",
   "mimetype": "text/x-python",
   "name": "python",
   "nbconvert_exporter": "python",
   "pygments_lexer": "ipython3",
   "version": "3.11.6"
  }
 },
 "nbformat": 4,
 "nbformat_minor": 2
}
