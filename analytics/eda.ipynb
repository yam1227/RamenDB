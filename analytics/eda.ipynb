{
 "cells": [
  {
   "cell_type": "code",
   "execution_count": null,
   "metadata": {},
   "outputs": [],
   "source": [
    "import pandas as pd\n",
    "import numpy as np\n",
    "import matplotlib.pyplot as plt\n",
    "import seaborn as sns\n",
    "import japanize_matplotlib\n",
    "\n",
    "df_pref = pd.read_csv('../data/cleaning_pref.csv')\n",
    "display(df_pref.head(3))\n",
    "\n"
   ]
  },
  {
   "cell_type": "markdown",
   "metadata": {},
   "source": [
    "## 都道府県ごとに駐車場有無の割合を可視化"
   ]
  },
  {
   "cell_type": "code",
   "execution_count": null,
   "metadata": {},
   "outputs": [],
   "source": [
    "# 都道府県、駐車場の属性ごとにグループ化、シリーズの作成\n",
    "df_pref_eda_of_holiday = df_pref[['pref','parking']].groupby(['pref','parking']).size()\n",
    "# データフレーム化。それぞれをcolumnsになるようインデックスをリセット\n",
    "df_pref_eda_of_holiday = pd.DataFrame(df_pref_eda_of_holiday, columns=['count']).reset_index()\n",
    "df_pref_eda_of_holiday.to_csv('../data/groupby_parking.csv', index=False)\n",
    "df_pref_eda_of_holiday"
   ]
  },
  {
   "cell_type": "code",
   "execution_count": null,
   "metadata": {},
   "outputs": [],
   "source": [
    "df_pref_eda_of_holiday = df_pref_eda_of_holiday.query(\"pref == '三重県'\")\n",
    "display(df_pref_eda_of_holiday)\n",
    "\n",
    "# ヒストグラムの描画\n",
    "plt.bar(df_pref_eda_of_holiday['parking'], df_pref_eda_of_holiday['count'])\n",
    "plt.xlabel('Parking')\n",
    "plt.ylabel('Count')\n",
    "plt.title('Histogram of Parking Counts in Hokkaido')\n",
    "plt.grid()\n",
    "plt.show()"
   ]
  },
  {
   "cell_type": "markdown",
   "metadata": {},
   "source": [
    "## "
   ]
  },
  {
   "cell_type": "code",
   "execution_count": null,
   "metadata": {},
   "outputs": [],
   "source": [
    "df_kind = pd.read_csv('../data/cleaning_kind_of_rank.csv')\n",
    "\n",
    "# df_kindに新しい列 'pref' を追加し、check_pref_in_address関数を適用\n",
    "def check_pref_in_address(address):\n",
    "  for prefecture in np.unique(df_pref['pref'].values):\n",
    "    if prefecture in address:\n",
    "      return prefecture\n",
    "  return None\n",
    "\n",
    "df_kind['pref'] = df_kind['address'].apply(check_pref_in_address)\n",
    "\n",
    "df_kind.to_csv('../data/cleaning_kind_of_rank.csv', index=False)"
   ]
  },
  {
   "cell_type": "code",
   "execution_count": null,
   "metadata": {},
   "outputs": [],
   "source": [
    "df_kind_new = df_kind[['kind','pref']].groupby(['kind','pref']).size()\n",
    "df_kind_new = pd.DataFrame(df_kind_new, columns=['count']).reset_index()\n",
    "df_kind_new.to_csv('../data/groupby_kind.csv',index=False)"
   ]
  },
  {
   "cell_type": "code",
   "execution_count": null,
   "metadata": {},
   "outputs": [],
   "source": []
  }
 ],
 "metadata": {
  "kernelspec": {
   "display_name": "scrape",
   "language": "python",
   "name": "python3"
  },
  "language_info": {
   "codemirror_mode": {
    "name": "ipython",
    "version": 3
   },
   "file_extension": ".py",
   "mimetype": "text/x-python",
   "name": "python",
   "nbconvert_exporter": "python",
   "pygments_lexer": "ipython3",
   "version": "3.11.6"
  }
 },
 "nbformat": 4,
 "nbformat_minor": 2
}
