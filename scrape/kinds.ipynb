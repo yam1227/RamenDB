{
 "cells": [
  {
   "cell_type": "markdown",
   "metadata": {},
   "source": [
    "## ライブラリの定義"
   ]
  },
  {
   "cell_type": "code",
   "execution_count": null,
   "metadata": {},
   "outputs": [],
   "source": [
    "import selenium\n",
    "from selenium import webdriver\n",
    "from selenium.webdriver.chrome.options import Options\n",
    "from selenium.webdriver.common.by import By\n",
    "from selenium.webdriver.support.ui import Select, WebDriverWait\n",
    "from selenium.webdriver.support import expected_conditions as EC\n",
    "\n",
    "# 例外処理用のライブラリをインポート\n",
    "from selenium.common.exceptions import NoSuchElementException, WebDriverException, TimeoutException\n",
    "import sys\n",
    "\n",
    "import pandas as pd\n",
    "import numpy as np"
   ]
  },
  {
   "cell_type": "markdown",
   "metadata": {},
   "source": [
    "seleniumマネジャーが利用可能かハージョン確認  \n",
    "4.6以前であれば更新"
   ]
  },
  {
   "cell_type": "code",
   "execution_count": null,
   "metadata": {},
   "outputs": [],
   "source": [
    "print(selenium.__version__)"
   ]
  },
  {
   "cell_type": "markdown",
   "metadata": {},
   "source": [
    "## 詳細ページに遷移するための関数\n",
    "* ~~WebdriverExceptionが発生した場合に待機して、リロードを行う~~<br>\n",
    "* ~~2間隔でページ全体が更新されたか、最大3秒間確認する~~\n",
    "* 3秒以上の動画広告に対処するため、この関数ではページ遷移と、エラー発生時のリロードのみ行う。<br>\n",
    "5回リロードしても同じエラーが発生する場合には強制終了を行う"
   ]
  },
  {
   "cell_type": "code",
   "execution_count": null,
   "metadata": {},
   "outputs": [],
   "source": [
    "def Safe_navigation(href, i=0):\n",
    "  try:\n",
    "    driver.get(href)\n",
    "    # 例外オブジェクトを e としてキャッチ\n",
    "  except Exception as e:\n",
    "    if i >= 5:\n",
    "      try:\n",
    "        sys.exit()\n",
    "      except SystemExit:\n",
    "        print('ページ遷移不可のため、強制終了')\n",
    "      raise\n",
    "    else:\n",
    "        print(f\"Navigation error: {e}\")\n",
    "        i += 1\n",
    "        Safe_navigation(href, i)"
   ]
  },
  {
   "cell_type": "markdown",
   "metadata": {},
   "source": [
    "## 詳細ページからデータを取得する関数"
   ]
  },
  {
   "cell_type": "code",
   "execution_count": null,
   "metadata": {},
   "outputs": [],
   "source": [
    "#絞込に従う、ランキングtop4~5店の詳細情報を取得する\n",
    "def Store_detail_of_kind(kind, name_list, href_list, df_kind):\n",
    "  # top4~50の店から店舗詳細情報を取得\n",
    "  for i in range(len(href_list)):\n",
    "    Safe_navigation(href_list[i])\n",
    "    # 住所が登録されている要素を取得\n",
    "    address = Get_address()\n",
    "    # pointが登録されている要素を取得\n",
    "    point = Get_point()\n",
    "    # 緯度経度の要素を取得する\n",
    "    latitude,  longitude = Get_map()\n",
    "    # 駐車場の要素を取得。（classの登録がなかったため、テキスト部分で条件指定\n",
    "    parking = Get_parking()\n",
    "    # 定休日の要素を取得。（classの登録がなかったため、テキスト部分で条件指定）\n",
    "    holiday = Get_holiday()\n",
    "    Mk_detail_list_of_kind(kind, name_list[i], point, address, latitude, longitude, parking, holiday, df_kind)\n",
    "  # 定期的なキャッシュの削除\n",
    "  driver.get('chrome://settings/clearBrowserData')\n",
    "  # ランキングのページに戻り、ジャンルのプルダウンを取得できるようにする\n",
    "  driver.get('https://ramendb.supleks.jp/rank')\n",
    "  # ページ全体がロードされるのを最大3秒間待機する\n",
    "  WebDriverWait(driver, 3).until(\n",
    "      lambda d: d.execute_script('return document.readyState') == 'complete'\n",
    "  )\n",
    "\n",
    "def Get_address():\n",
    "  try:\n",
    "    #addressの要素を2秒おきに確認しながら、最大3秒待機する\n",
    "    address_ele = WebDriverWait(driver, 3, poll_frequency=2).until(\n",
    "      EC.presence_of_element_located((By.XPATH, '//tbody/tr/td/span[@itemprop=\"address\"]'))\n",
    "    )\n",
    "    address = address_ele.text\n",
    "  # 住所が取得できなければ、Noneを取得\n",
    "  except Exception as e:\n",
    "    print(e)\n",
    "    address = None\n",
    "  return address\n",
    "        \n",
    "def Get_map():\n",
    "  try:\n",
    "    # mapの要素を確認しながら、最大3秒待機する。addressと同じページ内なので、確認秒数はデフォルトの500ミリ秒とする\n",
    "    map_data_ele = WebDriverWait(driver, 3).until(\n",
    "      EC.presence_of_element_located((By.ID, 'gpetitembedmap'))\n",
    "    )\n",
    "    map_data = map_data_ele.get_attribute('src')\n",
    "    # srcの要素値を緯度経度だけ切り離す\n",
    "    # q= という文字が入るので、スライスで取り除く\n",
    "    map_data = map_data.split('&')[1][2:]\n",
    "    # 緯度経度に分割する\n",
    "    map_data = map_data.split(',')\n",
    "    latitude = map_data[0]\n",
    "    longitude = map_data[1]\n",
    "  # 緯度経度が取得できなければ、Noneを取得\n",
    "  except Exception as e:\n",
    "    print(e)\n",
    "    latitude = None\n",
    "    longitude = None\n",
    "  return latitude, longitude\n",
    "        \n",
    "def Get_parking():\n",
    "  try:\n",
    "    th_element = WebDriverWait(driver, 3).until(\n",
    "      EC.presence_of_element_located((By.XPATH, '//tbody/tr/th[contains(text(), \"駐車場\")]'))\n",
    "    )\n",
    "    parking = th_element.find_element(By.XPATH, \"./following-sibling::td\").text\n",
    "  except Exception as e:\n",
    "    print(e)\n",
    "    parking = None\n",
    "  return parking\n",
    "        \n",
    "def Get_holiday():\n",
    "  try:\n",
    "    th_element = WebDriverWait(driver, 3).until(\n",
    "      EC.presence_of_element_located((By.XPATH, '//tbody/tr/th[contains(text(), \"定休日\")]'))\n",
    "    )\n",
    "    holiday = th_element.find_element(By.XPATH, \"./following-sibling::td\").text\n",
    "  except Exception as e:\n",
    "    print(e)\n",
    "    holiday = None\n",
    "  return holiday\n",
    "\n",
    "def Get_point():\n",
    "  try:\n",
    "    point_ele_int = WebDriverWait(driver, 3).until(\n",
    "        EC.presence_of_element_located((By.XPATH, '//span[@itemprop=\"ratingValue\"]/span[@class=\"int\"]'))\n",
    "    )\n",
    "    point_ele_float = WebDriverWait(driver, 3).until(\n",
    "        EC.presence_of_element_located((By.XPATH, '//span[@itemprop=\"ratingValue\"]/span[@class=\"float\"]'))\n",
    "    )\n",
    "    point = point_ele_int.text + point_ele_float.text\n",
    "  # 住所が取得できなければ、Noneを取得\n",
    "  except Exception as e:\n",
    "    print(e)\n",
    "    point = None\n",
    "  return point"
   ]
  },
  {
   "cell_type": "markdown",
   "metadata": {},
   "source": [
    "## 取得したデータをフレーム化する関数"
   ]
  },
  {
   "cell_type": "code",
   "execution_count": null,
   "metadata": {},
   "outputs": [],
   "source": [
    "# 店舗名とポイント、店舗詳細を店舗ごとにリスト化する\n",
    "def Mk_detail_list_of_kind(kind, name, point, address, latitude, longitude, parking, holiday, df_kind):\n",
    "  detail_list = [kind]\n",
    "  detail_list.append(name)\n",
    "  detail_list.append(point)\n",
    "  detail_list.append(address)\n",
    "  detail_list.append(latitude)\n",
    "  detail_list.append(longitude)\n",
    "  detail_list.append(parking)\n",
    "  detail_list.append(holiday)\n",
    "  print(detail_list)\n",
    "  df_kind.loc[len(df_kind)] = detail_list"
   ]
  },
  {
   "cell_type": "markdown",
   "metadata": {},
   "source": [
    "## 分類ごとのランキングを取得する関数"
   ]
  },
  {
   "cell_type": "code",
   "execution_count": null,
   "metadata": {},
   "outputs": [],
   "source": [
    "def Kind_cycle(df_kind, pager):\n",
    "  for i in pager:\n",
    "    # 分類別ごとのデータ取得\n",
    "    # 分類別、スープ別のselect要素を取得する\n",
    "    kinds_sel_ele = driver.find_element(By.XPATH, '//select[@name=\"style\"]')\n",
    "    # 分類別の要素をオブジェクトへ変換する\n",
    "    kinds_sel_obj = Select(kinds_sel_ele)\n",
    "    # オブジェクトの、value属性のリストを作成する\n",
    "    kinds_val_list = [kind.get_attribute('value') for kind in kinds_sel_obj.options]\n",
    "    kinds_text_list = [kind.text for kind in kinds_sel_obj.options]\n",
    "    # 都道府県の要素をドロップダウンから選択して\n",
    "    kinds_sel_obj.select_by_value(kinds_val_list[i])\n",
    "    # 表示ボタンの要素を取得できるまで待機\n",
    "    viewer = driver.find_element(By.XPATH, '//div[@class=\"left\"]/input[@class=\"formbtn\"]')\n",
    "    # 要素（表示ボタン）が表示されるまでスクロールする\n",
    "    driver.execute_script(\"arguments[0].scrollIntoView();\", viewer)\n",
    "    viewer.click()\n",
    "    # 要素(top3の店名, top4~50の店名)がページ上に表示されるまで最大10秒待機、その後実行\n",
    "    store_top3_ele = WebDriverWait(driver, 10, poll_frequency=2).until(\n",
    "      EC.presence_of_all_elements_located((By.XPATH, '//div[@class=\"ranks\"]/ul[@id=\"honor\"]/li/div[@class=\"name\"]/span/a'))\n",
    "    )\n",
    "    store_ele = WebDriverWait(driver, 10).until(\n",
    "      EC.presence_of_all_elements_located((By.XPATH, '//table[@class=\"rank\"]/tbody/tr/td/span[@class=\"name\"]/a'))\n",
    "    )\n",
    "    # 取得したtop3の店名、詳細ページのurlをリスト形式で保存\n",
    "    store_name_top3_list = [store_top3.text for store_top3 in store_top3_ele]\n",
    "    href_list_top3 = [ hrefs.get_attribute('href') for hrefs in store_top3_ele]\n",
    "    # 取得したtop4~50の店名、詳細ページのurlをリスト形式で保存\n",
    "    store_name_list = [store.text for store in store_ele]\n",
    "    href_list = [hrefs.get_attribute('href') for hrefs in store_ele]\n",
    "    \n",
    "    #top51~100が掲載されたページに遷移する\n",
    "    driver.execute_script(f\"window.location.href='/rank?page=2&style={kinds_val_list[i]}';\")\n",
    "    # 要素がページ上に表示されるまで最大5秒待機、その後実行\n",
    "    store_ele_next_rank = WebDriverWait(driver, 10, poll_frequency=2).until(\n",
    "      EC.presence_of_all_elements_located((By.XPATH, '//tbody/tr/td/span[@class=\"name\"]/a'))\n",
    "    )\n",
    "    store_name_next_rank_list = [store.text for store in store_ele_next_rank]\n",
    "    href_next_rank_list = [hrefs.get_attribute('href') for hrefs in store_ele_next_rank]\n",
    "    \n",
    "    # リストをそれぞれ結合する\n",
    "    store_names_list = store_name_top3_list + store_name_list + store_name_next_rank_list\n",
    "    hrefs_list = href_list_top3 + href_list + href_next_rank_list\n",
    "    Store_detail_of_kind(kinds_text_list[i], store_names_list, hrefs_list, df_kind)"
   ]
  },
  {
   "cell_type": "markdown",
   "metadata": {},
   "source": [
    "## 種類ごとのランキングを取得する"
   ]
  },
  {
   "cell_type": "code",
   "execution_count": null,
   "metadata": {},
   "outputs": [],
   "source": [
    "# 新版\n",
    "# 必要に応じてoptionsを設定\n",
    "options = Options()\n",
    "options.add_argument(\"--headless\")\n",
    "driver = webdriver.Chrome(options=options)\n",
    "\n",
    "# 暗黙的な待機\n",
    "driver.implicitly_wait(20)\n",
    "driver.get('https://ramendb.supleks.jp/rank')\n",
    "\n",
    "# 実行するプルダウンのリスト\n",
    "pager = [1,2,3,4,6,7,8,9,10,11,12,13,14,15,16]\n",
    "\n",
    "# # データフレームの枠組みを作成する\n",
    "columns_list_detail = ['kind', 'name', 'point', 'address', 'latitude', 'longitude', 'parking', 'holiday']\n",
    "df_kind = pd.DataFrame(columns = columns_list_detail)\n",
    "Kind_cycle(df_kind, pager)\n",
    "df_kind.to_csv('../data/kinds_of_rank.csv',index=False)"
   ]
  },
  {
   "cell_type": "code",
   "execution_count": null,
   "metadata": {},
   "outputs": [],
   "source": []
  }
 ],
 "metadata": {
  "kernelspec": {
   "display_name": "scrape",
   "language": "python",
   "name": "python3"
  },
  "language_info": {
   "codemirror_mode": {
    "name": "ipython",
    "version": 3
   },
   "file_extension": ".py",
   "mimetype": "text/x-python",
   "name": "python",
   "nbconvert_exporter": "python",
   "pygments_lexer": "ipython3",
   "version": "3.11.6"
  }
 },
 "nbformat": 4,
 "nbformat_minor": 2
}
